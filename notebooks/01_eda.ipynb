{
 "cells": [
  {
   "cell_type": "markdown",
   "id": "d301f1f5",
   "metadata": {},
   "source": [
    "# 1 Introduction\n",
    "\n",
    "In this NoteBook, I will conduct exploratory data analysis (EDA) and clean the EdNet dataset by handling null values, parsing timestamps and eliminating duplicate records to ensure data integrity. Following this, I will perform comprehensive data processing and mining to extract meaningful patterns. A crucial step involves constructing a user-content interaction matrix, which will facilitate insightful analysis of engagement. The preprocessed data will be systematically saved in the `/data/cleaned/` directory for use. Lastly, NLP techniques will be leveraged to enhance data interpretation and extract valuable insights.\n",
    "\n",
    "## 1.2 Importing the required libraries\n",
    "\n",
    "I will start by loading the required libraries"
   ]
  },
  {
   "cell_type": "code",
   "execution_count": null,
   "id": "73a5aceb",
   "metadata": {},
   "outputs": [],
   "source": [
    "# Importing necessary libraries for data manipulation & visualization\n",
    "import numpy as np # Is used for numerical operations and handling arrays\n",
    "import pandas as pd # Is used for handling structured data in DataFrames\n",
    "import matplotlib.pyplot as plt # Is used for creating static visualizations\n",
    "import seaborn as sns # Provides statistical data visualization capabilities built on top of Matplotlib\n",
    "import os # Helps with file & directory operations\n",
    "from collections import Counter # Is useful for counting occurrences of elements in a dataset"
   ]
  },
  {
   "cell_type": "markdown",
   "id": "0db9080e",
   "metadata": {},
   "source": [
    "# 2 Implementation\n",
    "## 2.1 Loading the datasets\n",
    "\n",
    "I will load the chosen datasets here. The datasets I have chosen from EdNet are **EdNet-KT1** for user interaction & performance logs, **Contents' questions.csv** for metadata used in content-based filtering and **Contents' lectures.csv** as a supplement for richer recommendations.\n",
    "\n",
    "**EdNet-KT1** is very large, with over **784,309** files. I couldn't include and use all the files, so I wrote a script named `ednet_kt1_sampler.py` to curate this dataset. Here’s how it works: The provided code defines a function, `sample_kt1_logs`, which randomly selects and combines files from the EdNet-KT1 dataset directory into a single DataFrame. It first identifies CSV files following the naming convention (`u*.csv`), then randomly samples a specified number of user logs. Each sampled log is read into a DataFrame, with the user ID extracted from the filename and added as a column. The data is then merged into a single DataFrame and returned. Finally, the script calls this function with a sample size of 1000, saves the resulting dataset as `sampled_kt1_logs.csv`, ensuring a structured subset for further analysis. This code can be found in `../data/`."
   ]
  },
  {
   "cell_type": "code",
   "execution_count": null,
   "id": "5eec1731",
   "metadata": {},
   "outputs": [],
   "source": [
    "# Load datasets from ../data/\n",
    "sampled_logs = pd.read_csv(\"../data/sampled_kt1_logs.csv\")\n",
    "questions = pd.read_csv(\"../data/questions.csv\")\n",
    "lectures = pd.read_csv(\"../data/lectures.csv\") "
   ]
  },
  {
   "cell_type": "markdown",
   "id": "0ec063bd",
   "metadata": {},
   "source": [
    "## 2.2 Data Exploration & Cleaning"
   ]
  },
  {
   "cell_type": "code",
   "execution_count": 2,
   "id": "7f08f6fa",
   "metadata": {},
   "outputs": [],
   "source": [
    "# Paths\n",
    "output_dir = \"../data/cleaned\"\n",
    "os.makedirs(output_dir, exist_ok=True)"
   ]
  },
  {
   "cell_type": "markdown",
   "id": "4c33bc2e",
   "metadata": {},
   "source": [
    "### Sampled KT1 Logs "
   ]
  },
  {
   "cell_type": "code",
   "execution_count": 5,
   "id": "eb0420be",
   "metadata": {},
   "outputs": [
    {
     "data": {
      "text/html": [
       "<div>\n",
       "<style scoped>\n",
       "    .dataframe tbody tr th:only-of-type {\n",
       "        vertical-align: middle;\n",
       "    }\n",
       "\n",
       "    .dataframe tbody tr th {\n",
       "        vertical-align: top;\n",
       "    }\n",
       "\n",
       "    .dataframe thead th {\n",
       "        text-align: right;\n",
       "    }\n",
       "</style>\n",
       "<table border=\"1\" class=\"dataframe\">\n",
       "  <thead>\n",
       "    <tr style=\"text-align: right;\">\n",
       "      <th></th>\n",
       "      <th>timestamp</th>\n",
       "      <th>solving_id</th>\n",
       "      <th>question_id</th>\n",
       "      <th>user_answer</th>\n",
       "      <th>elapsed_time</th>\n",
       "      <th>user_id</th>\n",
       "    </tr>\n",
       "  </thead>\n",
       "  <tbody>\n",
       "    <tr>\n",
       "      <th>0</th>\n",
       "      <td>1521971827112</td>\n",
       "      <td>1</td>\n",
       "      <td>q8098</td>\n",
       "      <td>b</td>\n",
       "      <td>12000</td>\n",
       "      <td>u145242</td>\n",
       "    </tr>\n",
       "    <tr>\n",
       "      <th>1</th>\n",
       "      <td>1521971855061</td>\n",
       "      <td>2</td>\n",
       "      <td>q8074</td>\n",
       "      <td>d</td>\n",
       "      <td>25000</td>\n",
       "      <td>u145242</td>\n",
       "    </tr>\n",
       "    <tr>\n",
       "      <th>2</th>\n",
       "      <td>1521971879724</td>\n",
       "      <td>3</td>\n",
       "      <td>q176</td>\n",
       "      <td>b</td>\n",
       "      <td>22000</td>\n",
       "      <td>u145242</td>\n",
       "    </tr>\n",
       "    <tr>\n",
       "      <th>3</th>\n",
       "      <td>1521971899710</td>\n",
       "      <td>4</td>\n",
       "      <td>q1279</td>\n",
       "      <td>c</td>\n",
       "      <td>17000</td>\n",
       "      <td>u145242</td>\n",
       "    </tr>\n",
       "    <tr>\n",
       "      <th>4</th>\n",
       "      <td>1521971943593</td>\n",
       "      <td>5</td>\n",
       "      <td>q2067</td>\n",
       "      <td>a</td>\n",
       "      <td>13333</td>\n",
       "      <td>u145242</td>\n",
       "    </tr>\n",
       "  </tbody>\n",
       "</table>\n",
       "</div>"
      ],
      "text/plain": [
       "       timestamp  solving_id question_id user_answer  elapsed_time  user_id\n",
       "0  1521971827112           1       q8098           b         12000  u145242\n",
       "1  1521971855061           2       q8074           d         25000  u145242\n",
       "2  1521971879724           3        q176           b         22000  u145242\n",
       "3  1521971899710           4       q1279           c         17000  u145242\n",
       "4  1521971943593           5       q2067           a         13333  u145242"
      ]
     },
     "execution_count": 5,
     "metadata": {},
     "output_type": "execute_result"
    }
   ],
   "source": [
    "# === Inspect Sampled KT1 Logs ===\n",
    "sampled_logs.head()"
   ]
  },
  {
   "cell_type": "code",
   "execution_count": 6,
   "id": "aaeefc50",
   "metadata": {},
   "outputs": [
    {
     "name": "stdout",
     "output_type": "stream",
     "text": [
      "\n",
      "=== KT1 Info ===\n",
      "<class 'pandas.core.frame.DataFrame'>\n",
      "RangeIndex: 117512 entries, 0 to 117511\n",
      "Data columns (total 6 columns):\n",
      " #   Column        Non-Null Count   Dtype \n",
      "---  ------        --------------   ----- \n",
      " 0   timestamp     117512 non-null  int64 \n",
      " 1   solving_id    117512 non-null  int64 \n",
      " 2   question_id   117512 non-null  object\n",
      " 3   user_answer   117502 non-null  object\n",
      " 4   elapsed_time  117512 non-null  int64 \n",
      " 5   user_id       117512 non-null  object\n",
      "dtypes: int64(3), object(3)\n",
      "memory usage: 5.4+ MB\n"
     ]
    }
   ],
   "source": [
    "print(\"\\n=== KT1 Info ===\")\n",
    "sampled_logs.info()"
   ]
  },
  {
   "cell_type": "code",
   "execution_count": 7,
   "id": "9aa4d62e",
   "metadata": {},
   "outputs": [
    {
     "name": "stdout",
     "output_type": "stream",
     "text": [
      "\n",
      "=== KT1 Description ===\n"
     ]
    },
    {
     "data": {
      "text/html": [
       "<div>\n",
       "<style scoped>\n",
       "    .dataframe tbody tr th:only-of-type {\n",
       "        vertical-align: middle;\n",
       "    }\n",
       "\n",
       "    .dataframe tbody tr th {\n",
       "        vertical-align: top;\n",
       "    }\n",
       "\n",
       "    .dataframe thead th {\n",
       "        text-align: right;\n",
       "    }\n",
       "</style>\n",
       "<table border=\"1\" class=\"dataframe\">\n",
       "  <thead>\n",
       "    <tr style=\"text-align: right;\">\n",
       "      <th></th>\n",
       "      <th>timestamp</th>\n",
       "      <th>solving_id</th>\n",
       "      <th>elapsed_time</th>\n",
       "    </tr>\n",
       "  </thead>\n",
       "  <tbody>\n",
       "    <tr>\n",
       "      <th>count</th>\n",
       "      <td>1.175120e+05</td>\n",
       "      <td>117512.000000</td>\n",
       "      <td>1.175120e+05</td>\n",
       "    </tr>\n",
       "    <tr>\n",
       "      <th>mean</th>\n",
       "      <td>1.542604e+12</td>\n",
       "      <td>995.423829</td>\n",
       "      <td>2.492519e+04</td>\n",
       "    </tr>\n",
       "    <tr>\n",
       "      <th>std</th>\n",
       "      <td>2.104613e+10</td>\n",
       "      <td>1481.194482</td>\n",
       "      <td>2.844269e+04</td>\n",
       "    </tr>\n",
       "    <tr>\n",
       "      <th>min</th>\n",
       "      <td>1.492530e+12</td>\n",
       "      <td>1.000000</td>\n",
       "      <td>0.000000e+00</td>\n",
       "    </tr>\n",
       "    <tr>\n",
       "      <th>25%</th>\n",
       "      <td>1.526855e+12</td>\n",
       "      <td>79.000000</td>\n",
       "      <td>1.600000e+04</td>\n",
       "    </tr>\n",
       "    <tr>\n",
       "      <th>50%</th>\n",
       "      <td>1.548086e+12</td>\n",
       "      <td>360.000000</td>\n",
       "      <td>2.100000e+04</td>\n",
       "    </tr>\n",
       "    <tr>\n",
       "      <th>75%</th>\n",
       "      <td>1.561172e+12</td>\n",
       "      <td>1169.000000</td>\n",
       "      <td>2.900000e+04</td>\n",
       "    </tr>\n",
       "    <tr>\n",
       "      <th>max</th>\n",
       "      <td>1.575304e+12</td>\n",
       "      <td>6949.000000</td>\n",
       "      <td>5.468000e+06</td>\n",
       "    </tr>\n",
       "  </tbody>\n",
       "</table>\n",
       "</div>"
      ],
      "text/plain": [
       "          timestamp     solving_id  elapsed_time\n",
       "count  1.175120e+05  117512.000000  1.175120e+05\n",
       "mean   1.542604e+12     995.423829  2.492519e+04\n",
       "std    2.104613e+10    1481.194482  2.844269e+04\n",
       "min    1.492530e+12       1.000000  0.000000e+00\n",
       "25%    1.526855e+12      79.000000  1.600000e+04\n",
       "50%    1.548086e+12     360.000000  2.100000e+04\n",
       "75%    1.561172e+12    1169.000000  2.900000e+04\n",
       "max    1.575304e+12    6949.000000  5.468000e+06"
      ]
     },
     "execution_count": 7,
     "metadata": {},
     "output_type": "execute_result"
    }
   ],
   "source": [
    "print(\"\\n=== KT1 Description ===\")\n",
    "sampled_logs.describe()"
   ]
  },
  {
   "cell_type": "code",
   "execution_count": 8,
   "id": "ecaef063",
   "metadata": {},
   "outputs": [
    {
     "name": "stdout",
     "output_type": "stream",
     "text": [
      "\n",
      "=== KT1 Missing Values ===\n"
     ]
    },
    {
     "data": {
      "text/plain": [
       "timestamp        0\n",
       "solving_id       0\n",
       "question_id      0\n",
       "user_answer     10\n",
       "elapsed_time     0\n",
       "user_id          0\n",
       "dtype: int64"
      ]
     },
     "execution_count": 8,
     "metadata": {},
     "output_type": "execute_result"
    }
   ],
   "source": [
    "print(\"\\n=== KT1 Missing Values ===\")\n",
    "sampled_logs.isna().sum()"
   ]
  },
  {
   "cell_type": "code",
   "execution_count": 9,
   "id": "8164a5e0",
   "metadata": {},
   "outputs": [
    {
     "name": "stdout",
     "output_type": "stream",
     "text": [
      "\n",
      "=== KT1 Duplicates ===\n",
      "Number of duplicate rows: 0\n"
     ]
    }
   ],
   "source": [
    "print(\"\\n=== KT1 Duplicates ===\")\n",
    "duplicate_rows = sampled_logs.duplicated().sum()  # Count how many rows are duplicates\n",
    "print(f\"Number of duplicate rows: {duplicate_rows}\")"
   ]
  },
  {
   "cell_type": "code",
   "execution_count": 10,
   "id": "56bb1250",
   "metadata": {},
   "outputs": [],
   "source": [
    "# Drop rows where user_answer is null\n",
    "sampled_logs = sampled_logs.dropna(subset=[\"user_answer\"])\n",
    "\n",
    "# Convert timestamp to datetime\n",
    "sampled_logs[\"timestamp\"] = pd.to_datetime(sampled_logs[\"timestamp\"], unit='ms')\n",
    "\n",
    "# Ensure types are consistent\n",
    "sampled_logs[\"question_id\"] = sampled_logs[\"question_id\"].astype(str)\n",
    "sampled_logs[\"user_id\"] = sampled_logs[\"user_id\"].astype(str)\n",
    "sampled_logs[\"user_answer\"] = sampled_logs[\"user_answer\"].astype(str)"
   ]
  },
  {
   "cell_type": "code",
   "execution_count": 11,
   "id": "38b1ac7d",
   "metadata": {},
   "outputs": [],
   "source": [
    "# Filter out 0 and extreme elapsed times (>5 min)\n",
    "sampled_logs = sampled_logs[\n",
    "    (sampled_logs[\"elapsed_time\"] > 0) & \n",
    "    (sampled_logs[\"elapsed_time\"] <= 300000)\n",
    "]"
   ]
  },
  {
   "cell_type": "markdown",
   "id": "48c9d20c",
   "metadata": {},
   "source": [
    "### Questions"
   ]
  },
  {
   "cell_type": "code",
   "execution_count": 12,
   "id": "75e49d4a",
   "metadata": {},
   "outputs": [
    {
     "name": "stdout",
     "output_type": "stream",
     "text": [
      "=== Questions Preview ===\n"
     ]
    },
    {
     "data": {
      "text/html": [
       "<div>\n",
       "<style scoped>\n",
       "    .dataframe tbody tr th:only-of-type {\n",
       "        vertical-align: middle;\n",
       "    }\n",
       "\n",
       "    .dataframe tbody tr th {\n",
       "        vertical-align: top;\n",
       "    }\n",
       "\n",
       "    .dataframe thead th {\n",
       "        text-align: right;\n",
       "    }\n",
       "</style>\n",
       "<table border=\"1\" class=\"dataframe\">\n",
       "  <thead>\n",
       "    <tr style=\"text-align: right;\">\n",
       "      <th></th>\n",
       "      <th>question_id</th>\n",
       "      <th>bundle_id</th>\n",
       "      <th>explanation_id</th>\n",
       "      <th>correct_answer</th>\n",
       "      <th>part</th>\n",
       "      <th>tags</th>\n",
       "      <th>deployed_at</th>\n",
       "    </tr>\n",
       "  </thead>\n",
       "  <tbody>\n",
       "    <tr>\n",
       "      <th>0</th>\n",
       "      <td>q1</td>\n",
       "      <td>b1</td>\n",
       "      <td>e1</td>\n",
       "      <td>b</td>\n",
       "      <td>1</td>\n",
       "      <td>1;2;179;181</td>\n",
       "      <td>1558093217098</td>\n",
       "    </tr>\n",
       "    <tr>\n",
       "      <th>1</th>\n",
       "      <td>q2</td>\n",
       "      <td>b2</td>\n",
       "      <td>e2</td>\n",
       "      <td>a</td>\n",
       "      <td>1</td>\n",
       "      <td>15;2;182</td>\n",
       "      <td>1558093219720</td>\n",
       "    </tr>\n",
       "    <tr>\n",
       "      <th>2</th>\n",
       "      <td>q3</td>\n",
       "      <td>b3</td>\n",
       "      <td>e3</td>\n",
       "      <td>b</td>\n",
       "      <td>1</td>\n",
       "      <td>14;2;179;183</td>\n",
       "      <td>1558093222784</td>\n",
       "    </tr>\n",
       "    <tr>\n",
       "      <th>3</th>\n",
       "      <td>q4</td>\n",
       "      <td>b4</td>\n",
       "      <td>e4</td>\n",
       "      <td>b</td>\n",
       "      <td>1</td>\n",
       "      <td>9;2;179;184</td>\n",
       "      <td>1558093225357</td>\n",
       "    </tr>\n",
       "    <tr>\n",
       "      <th>4</th>\n",
       "      <td>q5</td>\n",
       "      <td>b5</td>\n",
       "      <td>e5</td>\n",
       "      <td>c</td>\n",
       "      <td>1</td>\n",
       "      <td>8;2;179;181</td>\n",
       "      <td>1558093228439</td>\n",
       "    </tr>\n",
       "  </tbody>\n",
       "</table>\n",
       "</div>"
      ],
      "text/plain": [
       "  question_id bundle_id explanation_id correct_answer  part          tags  \\\n",
       "0          q1        b1             e1              b     1   1;2;179;181   \n",
       "1          q2        b2             e2              a     1      15;2;182   \n",
       "2          q3        b3             e3              b     1  14;2;179;183   \n",
       "3          q4        b4             e4              b     1   9;2;179;184   \n",
       "4          q5        b5             e5              c     1   8;2;179;181   \n",
       "\n",
       "     deployed_at  \n",
       "0  1558093217098  \n",
       "1  1558093219720  \n",
       "2  1558093222784  \n",
       "3  1558093225357  \n",
       "4  1558093228439  "
      ]
     },
     "metadata": {},
     "output_type": "display_data"
    }
   ],
   "source": [
    "# === Inspect Questions ===\n",
    "print(\"=== Questions Preview ===\")\n",
    "display(questions.head())"
   ]
  },
  {
   "cell_type": "code",
   "execution_count": 13,
   "id": "211e122e",
   "metadata": {},
   "outputs": [
    {
     "name": "stdout",
     "output_type": "stream",
     "text": [
      "\n",
      "=== Questions Info ===\n",
      "<class 'pandas.core.frame.DataFrame'>\n",
      "RangeIndex: 13169 entries, 0 to 13168\n",
      "Data columns (total 7 columns):\n",
      " #   Column          Non-Null Count  Dtype \n",
      "---  ------          --------------  ----- \n",
      " 0   question_id     13169 non-null  object\n",
      " 1   bundle_id       13169 non-null  object\n",
      " 2   explanation_id  13169 non-null  object\n",
      " 3   correct_answer  13169 non-null  object\n",
      " 4   part            13169 non-null  int64 \n",
      " 5   tags            13169 non-null  object\n",
      " 6   deployed_at     13169 non-null  int64 \n",
      "dtypes: int64(2), object(5)\n",
      "memory usage: 720.3+ KB\n"
     ]
    }
   ],
   "source": [
    "print(\"\\n=== Questions Info ===\")\n",
    "questions.info()"
   ]
  },
  {
   "cell_type": "code",
   "execution_count": 14,
   "id": "a0efa3c4",
   "metadata": {},
   "outputs": [
    {
     "name": "stdout",
     "output_type": "stream",
     "text": [
      "\n",
      "=== Questions Description ===\n"
     ]
    },
    {
     "data": {
      "text/html": [
       "<div>\n",
       "<style scoped>\n",
       "    .dataframe tbody tr th:only-of-type {\n",
       "        vertical-align: middle;\n",
       "    }\n",
       "\n",
       "    .dataframe tbody tr th {\n",
       "        vertical-align: top;\n",
       "    }\n",
       "\n",
       "    .dataframe thead th {\n",
       "        text-align: right;\n",
       "    }\n",
       "</style>\n",
       "<table border=\"1\" class=\"dataframe\">\n",
       "  <thead>\n",
       "    <tr style=\"text-align: right;\">\n",
       "      <th></th>\n",
       "      <th>question_id</th>\n",
       "      <th>bundle_id</th>\n",
       "      <th>explanation_id</th>\n",
       "      <th>correct_answer</th>\n",
       "      <th>part</th>\n",
       "      <th>tags</th>\n",
       "      <th>deployed_at</th>\n",
       "    </tr>\n",
       "  </thead>\n",
       "  <tbody>\n",
       "    <tr>\n",
       "      <th>count</th>\n",
       "      <td>13169</td>\n",
       "      <td>13169</td>\n",
       "      <td>13169</td>\n",
       "      <td>13169</td>\n",
       "      <td>13169.000000</td>\n",
       "      <td>13169</td>\n",
       "      <td>1.316900e+04</td>\n",
       "    </tr>\n",
       "    <tr>\n",
       "      <th>unique</th>\n",
       "      <td>13169</td>\n",
       "      <td>9534</td>\n",
       "      <td>9534</td>\n",
       "      <td>4</td>\n",
       "      <td>NaN</td>\n",
       "      <td>1792</td>\n",
       "      <td>NaN</td>\n",
       "    </tr>\n",
       "    <tr>\n",
       "      <th>top</th>\n",
       "      <td>q18143</td>\n",
       "      <td>b5709</td>\n",
       "      <td>e5709</td>\n",
       "      <td>b</td>\n",
       "      <td>NaN</td>\n",
       "      <td>-1</td>\n",
       "      <td>NaN</td>\n",
       "    </tr>\n",
       "    <tr>\n",
       "      <th>freq</th>\n",
       "      <td>1</td>\n",
       "      <td>5</td>\n",
       "      <td>5</td>\n",
       "      <td>3624</td>\n",
       "      <td>NaN</td>\n",
       "      <td>797</td>\n",
       "      <td>NaN</td>\n",
       "    </tr>\n",
       "    <tr>\n",
       "      <th>mean</th>\n",
       "      <td>NaN</td>\n",
       "      <td>NaN</td>\n",
       "      <td>NaN</td>\n",
       "      <td>NaN</td>\n",
       "      <td>4.460172</td>\n",
       "      <td>NaN</td>\n",
       "      <td>1.304772e+12</td>\n",
       "    </tr>\n",
       "    <tr>\n",
       "      <th>std</th>\n",
       "      <td>NaN</td>\n",
       "      <td>NaN</td>\n",
       "      <td>NaN</td>\n",
       "      <td>NaN</td>\n",
       "      <td>1.620358</td>\n",
       "      <td>NaN</td>\n",
       "      <td>5.688381e+11</td>\n",
       "    </tr>\n",
       "    <tr>\n",
       "      <th>min</th>\n",
       "      <td>NaN</td>\n",
       "      <td>NaN</td>\n",
       "      <td>NaN</td>\n",
       "      <td>NaN</td>\n",
       "      <td>1.000000</td>\n",
       "      <td>NaN</td>\n",
       "      <td>-1.000000e+00</td>\n",
       "    </tr>\n",
       "    <tr>\n",
       "      <th>25%</th>\n",
       "      <td>NaN</td>\n",
       "      <td>NaN</td>\n",
       "      <td>NaN</td>\n",
       "      <td>NaN</td>\n",
       "      <td>3.000000</td>\n",
       "      <td>NaN</td>\n",
       "      <td>1.514962e+12</td>\n",
       "    </tr>\n",
       "    <tr>\n",
       "      <th>50%</th>\n",
       "      <td>NaN</td>\n",
       "      <td>NaN</td>\n",
       "      <td>NaN</td>\n",
       "      <td>NaN</td>\n",
       "      <td>5.000000</td>\n",
       "      <td>NaN</td>\n",
       "      <td>1.558093e+12</td>\n",
       "    </tr>\n",
       "    <tr>\n",
       "      <th>75%</th>\n",
       "      <td>NaN</td>\n",
       "      <td>NaN</td>\n",
       "      <td>NaN</td>\n",
       "      <td>NaN</td>\n",
       "      <td>5.000000</td>\n",
       "      <td>NaN</td>\n",
       "      <td>1.568688e+12</td>\n",
       "    </tr>\n",
       "    <tr>\n",
       "      <th>max</th>\n",
       "      <td>NaN</td>\n",
       "      <td>NaN</td>\n",
       "      <td>NaN</td>\n",
       "      <td>NaN</td>\n",
       "      <td>7.000000</td>\n",
       "      <td>NaN</td>\n",
       "      <td>1.574066e+12</td>\n",
       "    </tr>\n",
       "  </tbody>\n",
       "</table>\n",
       "</div>"
      ],
      "text/plain": [
       "       question_id bundle_id explanation_id correct_answer          part  \\\n",
       "count        13169     13169          13169          13169  13169.000000   \n",
       "unique       13169      9534           9534              4           NaN   \n",
       "top         q18143     b5709          e5709              b           NaN   \n",
       "freq             1         5              5           3624           NaN   \n",
       "mean           NaN       NaN            NaN            NaN      4.460172   \n",
       "std            NaN       NaN            NaN            NaN      1.620358   \n",
       "min            NaN       NaN            NaN            NaN      1.000000   \n",
       "25%            NaN       NaN            NaN            NaN      3.000000   \n",
       "50%            NaN       NaN            NaN            NaN      5.000000   \n",
       "75%            NaN       NaN            NaN            NaN      5.000000   \n",
       "max            NaN       NaN            NaN            NaN      7.000000   \n",
       "\n",
       "         tags   deployed_at  \n",
       "count   13169  1.316900e+04  \n",
       "unique   1792           NaN  \n",
       "top        -1           NaN  \n",
       "freq      797           NaN  \n",
       "mean      NaN  1.304772e+12  \n",
       "std       NaN  5.688381e+11  \n",
       "min       NaN -1.000000e+00  \n",
       "25%       NaN  1.514962e+12  \n",
       "50%       NaN  1.558093e+12  \n",
       "75%       NaN  1.568688e+12  \n",
       "max       NaN  1.574066e+12  "
      ]
     },
     "metadata": {},
     "output_type": "display_data"
    }
   ],
   "source": [
    "print(\"\\n=== Questions Description ===\")\n",
    "display(questions.describe(include='all'))"
   ]
  },
  {
   "cell_type": "code",
   "execution_count": 15,
   "id": "29d84361",
   "metadata": {},
   "outputs": [
    {
     "name": "stdout",
     "output_type": "stream",
     "text": [
      "\n",
      "=== Questions Missing Values ===\n",
      "question_id       0\n",
      "bundle_id         0\n",
      "explanation_id    0\n",
      "correct_answer    0\n",
      "part              0\n",
      "tags              0\n",
      "deployed_at       0\n",
      "dtype: int64\n"
     ]
    }
   ],
   "source": [
    "print(\"\\n=== Questions Missing Values ===\")\n",
    "print(questions.isna().sum())"
   ]
  },
  {
   "cell_type": "code",
   "execution_count": 16,
   "id": "63ab8d15",
   "metadata": {},
   "outputs": [
    {
     "name": "stdout",
     "output_type": "stream",
     "text": [
      "\n",
      "=== Questions Duplicates ===\n",
      "Number of duplicate rows: 0\n"
     ]
    }
   ],
   "source": [
    "print(\"\\n=== Questions Duplicates ===\")\n",
    "duplicate_rows = questions.duplicated().sum()  # Count how many rows are duplicates\n",
    "print(f\"Number of duplicate rows: {duplicate_rows}\")"
   ]
  },
  {
   "cell_type": "code",
   "execution_count": 17,
   "id": "8994c2c8",
   "metadata": {},
   "outputs": [],
   "source": [
    "# === Clean Questions ===\n",
    "questions = questions.drop_duplicates()\n",
    "questions = questions.dropna()\n",
    "questions['deployed_at'] = pd.to_datetime(questions['deployed_at'], unit='ms')"
   ]
  },
  {
   "cell_type": "markdown",
   "id": "1c58bbf3",
   "metadata": {},
   "source": [
    "### Lectures"
   ]
  },
  {
   "cell_type": "code",
   "execution_count": 18,
   "id": "6a38eef4",
   "metadata": {},
   "outputs": [
    {
     "name": "stdout",
     "output_type": "stream",
     "text": [
      "=== Lectures Preview ===\n"
     ]
    },
    {
     "data": {
      "text/html": [
       "<div>\n",
       "<style scoped>\n",
       "    .dataframe tbody tr th:only-of-type {\n",
       "        vertical-align: middle;\n",
       "    }\n",
       "\n",
       "    .dataframe tbody tr th {\n",
       "        vertical-align: top;\n",
       "    }\n",
       "\n",
       "    .dataframe thead th {\n",
       "        text-align: right;\n",
       "    }\n",
       "</style>\n",
       "<table border=\"1\" class=\"dataframe\">\n",
       "  <thead>\n",
       "    <tr style=\"text-align: right;\">\n",
       "      <th></th>\n",
       "      <th>lecture_id</th>\n",
       "      <th>part</th>\n",
       "      <th>tags</th>\n",
       "      <th>video_length</th>\n",
       "      <th>deployed_at</th>\n",
       "    </tr>\n",
       "  </thead>\n",
       "  <tbody>\n",
       "    <tr>\n",
       "      <th>0</th>\n",
       "      <td>l520</td>\n",
       "      <td>5</td>\n",
       "      <td>142</td>\n",
       "      <td>-1</td>\n",
       "      <td>-1</td>\n",
       "    </tr>\n",
       "    <tr>\n",
       "      <th>1</th>\n",
       "      <td>l592</td>\n",
       "      <td>6</td>\n",
       "      <td>142</td>\n",
       "      <td>-1</td>\n",
       "      <td>-1</td>\n",
       "    </tr>\n",
       "    <tr>\n",
       "      <th>2</th>\n",
       "      <td>l1259</td>\n",
       "      <td>1</td>\n",
       "      <td>222</td>\n",
       "      <td>359000</td>\n",
       "      <td>1570424729123</td>\n",
       "    </tr>\n",
       "    <tr>\n",
       "      <th>3</th>\n",
       "      <td>l1260</td>\n",
       "      <td>1</td>\n",
       "      <td>220</td>\n",
       "      <td>487000</td>\n",
       "      <td>1570424738105</td>\n",
       "    </tr>\n",
       "    <tr>\n",
       "      <th>4</th>\n",
       "      <td>l1261</td>\n",
       "      <td>1</td>\n",
       "      <td>221</td>\n",
       "      <td>441000</td>\n",
       "      <td>1570424743162</td>\n",
       "    </tr>\n",
       "  </tbody>\n",
       "</table>\n",
       "</div>"
      ],
      "text/plain": [
       "  lecture_id  part  tags  video_length    deployed_at\n",
       "0       l520     5   142            -1             -1\n",
       "1       l592     6   142            -1             -1\n",
       "2      l1259     1   222        359000  1570424729123\n",
       "3      l1260     1   220        487000  1570424738105\n",
       "4      l1261     1   221        441000  1570424743162"
      ]
     },
     "metadata": {},
     "output_type": "display_data"
    }
   ],
   "source": [
    "# === Inspect Lectures ===\n",
    "print(\"=== Lectures Preview ===\")\n",
    "display(lectures.head())"
   ]
  },
  {
   "cell_type": "code",
   "execution_count": 19,
   "id": "5ec70413",
   "metadata": {},
   "outputs": [
    {
     "name": "stdout",
     "output_type": "stream",
     "text": [
      "\n",
      "=== Lectures Info ===\n",
      "<class 'pandas.core.frame.DataFrame'>\n",
      "RangeIndex: 1021 entries, 0 to 1020\n",
      "Data columns (total 5 columns):\n",
      " #   Column        Non-Null Count  Dtype \n",
      "---  ------        --------------  ----- \n",
      " 0   lecture_id    1021 non-null   object\n",
      " 1   part          1021 non-null   int64 \n",
      " 2   tags          1021 non-null   int64 \n",
      " 3   video_length  1021 non-null   int64 \n",
      " 4   deployed_at   1021 non-null   int64 \n",
      "dtypes: int64(4), object(1)\n",
      "memory usage: 40.0+ KB\n"
     ]
    }
   ],
   "source": [
    "print(\"\\n=== Lectures Info ===\")\n",
    "lectures.info()"
   ]
  },
  {
   "cell_type": "code",
   "execution_count": 20,
   "id": "f84fe7b9",
   "metadata": {},
   "outputs": [
    {
     "name": "stdout",
     "output_type": "stream",
     "text": [
      "\n",
      "=== Lectures Description ===\n"
     ]
    },
    {
     "data": {
      "text/html": [
       "<div>\n",
       "<style scoped>\n",
       "    .dataframe tbody tr th:only-of-type {\n",
       "        vertical-align: middle;\n",
       "    }\n",
       "\n",
       "    .dataframe tbody tr th {\n",
       "        vertical-align: top;\n",
       "    }\n",
       "\n",
       "    .dataframe thead th {\n",
       "        text-align: right;\n",
       "    }\n",
       "</style>\n",
       "<table border=\"1\" class=\"dataframe\">\n",
       "  <thead>\n",
       "    <tr style=\"text-align: right;\">\n",
       "      <th></th>\n",
       "      <th>lecture_id</th>\n",
       "      <th>part</th>\n",
       "      <th>tags</th>\n",
       "      <th>video_length</th>\n",
       "      <th>deployed_at</th>\n",
       "    </tr>\n",
       "  </thead>\n",
       "  <tbody>\n",
       "    <tr>\n",
       "      <th>count</th>\n",
       "      <td>1021</td>\n",
       "      <td>1021.000000</td>\n",
       "      <td>1021.000000</td>\n",
       "      <td>1.021000e+03</td>\n",
       "      <td>1.021000e+03</td>\n",
       "    </tr>\n",
       "    <tr>\n",
       "      <th>unique</th>\n",
       "      <td>1021</td>\n",
       "      <td>NaN</td>\n",
       "      <td>NaN</td>\n",
       "      <td>NaN</td>\n",
       "      <td>NaN</td>\n",
       "    </tr>\n",
       "    <tr>\n",
       "      <th>top</th>\n",
       "      <td>l843</td>\n",
       "      <td>NaN</td>\n",
       "      <td>NaN</td>\n",
       "      <td>NaN</td>\n",
       "      <td>NaN</td>\n",
       "    </tr>\n",
       "    <tr>\n",
       "      <th>freq</th>\n",
       "      <td>1</td>\n",
       "      <td>NaN</td>\n",
       "      <td>NaN</td>\n",
       "      <td>NaN</td>\n",
       "      <td>NaN</td>\n",
       "    </tr>\n",
       "    <tr>\n",
       "      <th>mean</th>\n",
       "      <td>NaN</td>\n",
       "      <td>1.842311</td>\n",
       "      <td>69.219393</td>\n",
       "      <td>1.472973e+05</td>\n",
       "      <td>8.735165e+11</td>\n",
       "    </tr>\n",
       "    <tr>\n",
       "      <th>std</th>\n",
       "      <td>NaN</td>\n",
       "      <td>2.908340</td>\n",
       "      <td>83.938264</td>\n",
       "      <td>1.830251e+05</td>\n",
       "      <td>7.804772e+11</td>\n",
       "    </tr>\n",
       "    <tr>\n",
       "      <th>min</th>\n",
       "      <td>NaN</td>\n",
       "      <td>-1.000000</td>\n",
       "      <td>-1.000000</td>\n",
       "      <td>-1.000000e+00</td>\n",
       "      <td>-1.000000e+00</td>\n",
       "    </tr>\n",
       "    <tr>\n",
       "      <th>25%</th>\n",
       "      <td>NaN</td>\n",
       "      <td>-1.000000</td>\n",
       "      <td>-1.000000</td>\n",
       "      <td>-1.000000e+00</td>\n",
       "      <td>-1.000000e+00</td>\n",
       "    </tr>\n",
       "    <tr>\n",
       "      <th>50%</th>\n",
       "      <td>NaN</td>\n",
       "      <td>1.000000</td>\n",
       "      <td>33.000000</td>\n",
       "      <td>1.220000e+05</td>\n",
       "      <td>1.570425e+12</td>\n",
       "    </tr>\n",
       "    <tr>\n",
       "      <th>75%</th>\n",
       "      <td>NaN</td>\n",
       "      <td>5.000000</td>\n",
       "      <td>120.000000</td>\n",
       "      <td>2.320000e+05</td>\n",
       "      <td>1.570426e+12</td>\n",
       "    </tr>\n",
       "    <tr>\n",
       "      <th>max</th>\n",
       "      <td>NaN</td>\n",
       "      <td>7.000000</td>\n",
       "      <td>298.000000</td>\n",
       "      <td>1.042000e+06</td>\n",
       "      <td>1.570427e+12</td>\n",
       "    </tr>\n",
       "  </tbody>\n",
       "</table>\n",
       "</div>"
      ],
      "text/plain": [
       "       lecture_id         part         tags  video_length   deployed_at\n",
       "count        1021  1021.000000  1021.000000  1.021000e+03  1.021000e+03\n",
       "unique       1021          NaN          NaN           NaN           NaN\n",
       "top          l843          NaN          NaN           NaN           NaN\n",
       "freq            1          NaN          NaN           NaN           NaN\n",
       "mean          NaN     1.842311    69.219393  1.472973e+05  8.735165e+11\n",
       "std           NaN     2.908340    83.938264  1.830251e+05  7.804772e+11\n",
       "min           NaN    -1.000000    -1.000000 -1.000000e+00 -1.000000e+00\n",
       "25%           NaN    -1.000000    -1.000000 -1.000000e+00 -1.000000e+00\n",
       "50%           NaN     1.000000    33.000000  1.220000e+05  1.570425e+12\n",
       "75%           NaN     5.000000   120.000000  2.320000e+05  1.570426e+12\n",
       "max           NaN     7.000000   298.000000  1.042000e+06  1.570427e+12"
      ]
     },
     "metadata": {},
     "output_type": "display_data"
    }
   ],
   "source": [
    "print(\"\\n=== Lectures Description ===\")\n",
    "display(lectures.describe(include='all'))"
   ]
  },
  {
   "cell_type": "code",
   "execution_count": 21,
   "id": "d7a70547",
   "metadata": {},
   "outputs": [
    {
     "name": "stdout",
     "output_type": "stream",
     "text": [
      "\n",
      "=== Lectures Missing Values ===\n",
      "lecture_id      0\n",
      "part            0\n",
      "tags            0\n",
      "video_length    0\n",
      "deployed_at     0\n",
      "dtype: int64\n"
     ]
    }
   ],
   "source": [
    "print(\"\\n=== Lectures Missing Values ===\")\n",
    "print(lectures.isna().sum())"
   ]
  },
  {
   "cell_type": "code",
   "execution_count": 22,
   "id": "2f2b186c",
   "metadata": {},
   "outputs": [
    {
     "name": "stdout",
     "output_type": "stream",
     "text": [
      "\n",
      "=== Lectures Duplicates ===\n",
      "Number of duplicate rows: 0\n"
     ]
    }
   ],
   "source": [
    "print(\"\\n=== Lectures Duplicates ===\")\n",
    "duplicate_rows = lectures.duplicated().sum()  # Count how many rows are duplicates\n",
    "print(f\"Number of duplicate rows: {duplicate_rows}\")"
   ]
  },
  {
   "cell_type": "code",
   "execution_count": null,
   "id": "38a9a0a4",
   "metadata": {},
   "outputs": [],
   "source": [
    "# Replace -1 with NaN\n",
    "lectures[[\"part\", \"tags\", \"video_length\", \"deployed_at\"]] = lectures[[\"part\", \"tags\", \"video_length\", \"deployed_at\"]].replace(-1, np.nan)\n",
    "\n",
    "# Convert deployed_at to datetime\n",
    "lectures[\"deployed_at\"] = pd.to_datetime(lectures[\"deployed_at\"], unit=\"ms\", errors=\"coerce\")"
   ]
  },
  {
   "cell_type": "code",
   "execution_count": 24,
   "id": "b0c0ddbf",
   "metadata": {},
   "outputs": [],
   "source": [
    "# === Merge sampled logs with questions ===\n",
    "merged = pd.merge(sampled_logs, questions, on='question_id', how='inner')"
   ]
  },
  {
   "cell_type": "code",
   "execution_count": 25,
   "id": "b4d18c3f",
   "metadata": {},
   "outputs": [],
   "source": [
    "# === Save cleaned datasets ===\n",
    "sampled_logs.to_csv(\"../data/cleaned/cleaned_sampled_logs.csv\", index=False)\n",
    "questions.to_csv(\"../data/cleaned/cleaned_questions.csv\", index=False)\n",
    "merged.to_csv(\"../data/cleaned/merged_cleaned_data.csv\", index=False)"
   ]
  }
 ],
 "metadata": {
  "kernelspec": {
   "display_name": "Python (.venv - EdNet)",
   "language": "python",
   "name": "ednet-env"
  },
  "language_info": {
   "codemirror_mode": {
    "name": "ipython",
    "version": 3
   },
   "file_extension": ".py",
   "mimetype": "text/x-python",
   "name": "python",
   "nbconvert_exporter": "python",
   "pygments_lexer": "ipython3",
   "version": "3.10.0"
  }
 },
 "nbformat": 4,
 "nbformat_minor": 5
}
