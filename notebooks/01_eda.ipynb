{
 "cells": [
  {
   "cell_type": "markdown",
   "id": "d301f1f5",
   "metadata": {},
   "source": [
    "# 1 Introduction\n",
    "\n",
    "In this NoteBook, I will conduct exploratory data analysis (EDA) and clean the EdNet dataset by handling null values, parsing timestamps and eliminating duplicate records to ensure data integrity. Following this, I will perform comprehensive data processing and mining to extract meaningful patterns. A crucial step involves constructing a user-content interaction matrix, which will facilitate insightful analysis of engagement. The preprocessed data will be systematically saved in the `/data/cleaned/` directory for use. Lastly, NLP techniques will be leveraged to enhance data interpretation and extract valuable insights.\n",
    "\n",
    "## 1.2 Importing the required libraries\n",
    "\n",
    "I will start by loading the required libraries"
   ]
  },
  {
   "cell_type": "code",
   "execution_count": 1,
   "id": "73a5aceb",
   "metadata": {},
   "outputs": [],
   "source": [
    "# Importing necessary libraries for data manipulation & visualization\n",
    "import numpy as np # Is used for numerical operations and handling arrays\n",
    "import pandas as pd # Is used for handling structured data in DataFrames\n",
    "import matplotlib.pyplot as plt # Is used for creating static visualizations\n",
    "import seaborn as sns # Provides statistical data visualization capabilities built on top of Matplotlib\n",
    "import os # Helps with file & directory operations\n",
    "from collections import Counter # Is useful for counting occurrences of elements in a dataset"
   ]
  },
  {
   "cell_type": "markdown",
   "id": "0db9080e",
   "metadata": {},
   "source": [
    "# 2 Implementation\n",
    "## 2.1 Loading the datasets\n",
    "\n",
    "I will load the chosen datasets here. The datasets I have chosen from EdNet are **EdNet-KT1** for user interaction & performance logs, **Contents' questions.csv** for metadata used in content-based filtering and **Contents' lectures.csv** as a supplement for richer recommendations.\n",
    "\n",
    "**EdNet-KT1** is very large, with over **784,309** files. I couldn't include and use all the files, so I wrote a script named `ednet_kt1_sampler.py` to curate this dataset. Here’s how it works: The provided code defines a function, `sample_kt1_logs`, which randomly selects and combines files from the EdNet-KT1 dataset directory into a single DataFrame. It first identifies CSV files following the naming convention (`u*.csv`), then randomly samples a specified number of user logs. Each sampled log is read into a DataFrame, with the user ID extracted from the filename and added as a column. The data is then merged into a single DataFrame and returned. Finally, the script calls this function with a sample size of 1000, saves the resulting dataset as `sampled_kt1_logs.csv`, ensuring a structured subset for further analysis. This code can be found in `../data/`."
   ]
  },
  {
   "cell_type": "code",
   "execution_count": 2,
   "id": "5eec1731",
   "metadata": {},
   "outputs": [],
   "source": [
    "# Load datasets from ../data/\n",
    "sampled_logs = pd.read_csv(\"../data/sampled_kt1_logs.csv\")\n",
    "questions = pd.read_csv(\"../data/questions.csv\")\n",
    "lectures = pd.read_csv(\"../data/lectures.csv\") \n",
    "\n",
    "# Define output directory for cleaned data\n",
    "output_dir = \"../data/cleaned\" # Directory & path to save cleaned data\n",
    "os.makedirs(output_dir, exist_ok=True) # Create directory if it doesn't already exist"
   ]
  },
  {
   "cell_type": "markdown",
   "id": "0ec063bd",
   "metadata": {},
   "source": [
    "The datasets are loaded successfully and I have set up a directory to store the cleaned data.\n",
    "\n",
    "## 2.2 Data Exploration & Cleaning\n",
    "\n",
    "Next, I will inspect the datasets to understand its structure, identify any issues with missing values, duplicates and extreme values, and get a sense of the overall data distribution. Then I clean the datasets if needed and save it in the **../data/cleaned** directory I have set up before.\n",
    "\n",
    "### 1. Sampled KT1 Logs \n",
    "\n",
    "#### Preview the Data"
   ]
  },
  {
   "cell_type": "code",
   "execution_count": 3,
   "id": "eb0420be",
   "metadata": {},
   "outputs": [
    {
     "data": {
      "text/html": [
       "<div>\n",
       "<style scoped>\n",
       "    .dataframe tbody tr th:only-of-type {\n",
       "        vertical-align: middle;\n",
       "    }\n",
       "\n",
       "    .dataframe tbody tr th {\n",
       "        vertical-align: top;\n",
       "    }\n",
       "\n",
       "    .dataframe thead th {\n",
       "        text-align: right;\n",
       "    }\n",
       "</style>\n",
       "<table border=\"1\" class=\"dataframe\">\n",
       "  <thead>\n",
       "    <tr style=\"text-align: right;\">\n",
       "      <th></th>\n",
       "      <th>timestamp</th>\n",
       "      <th>solving_id</th>\n",
       "      <th>question_id</th>\n",
       "      <th>user_answer</th>\n",
       "      <th>elapsed_time</th>\n",
       "      <th>user_id</th>\n",
       "    </tr>\n",
       "  </thead>\n",
       "  <tbody>\n",
       "    <tr>\n",
       "      <th>0</th>\n",
       "      <td>1521971827112</td>\n",
       "      <td>1</td>\n",
       "      <td>q8098</td>\n",
       "      <td>b</td>\n",
       "      <td>12000</td>\n",
       "      <td>u145242</td>\n",
       "    </tr>\n",
       "    <tr>\n",
       "      <th>1</th>\n",
       "      <td>1521971855061</td>\n",
       "      <td>2</td>\n",
       "      <td>q8074</td>\n",
       "      <td>d</td>\n",
       "      <td>25000</td>\n",
       "      <td>u145242</td>\n",
       "    </tr>\n",
       "    <tr>\n",
       "      <th>2</th>\n",
       "      <td>1521971879724</td>\n",
       "      <td>3</td>\n",
       "      <td>q176</td>\n",
       "      <td>b</td>\n",
       "      <td>22000</td>\n",
       "      <td>u145242</td>\n",
       "    </tr>\n",
       "    <tr>\n",
       "      <th>3</th>\n",
       "      <td>1521971899710</td>\n",
       "      <td>4</td>\n",
       "      <td>q1279</td>\n",
       "      <td>c</td>\n",
       "      <td>17000</td>\n",
       "      <td>u145242</td>\n",
       "    </tr>\n",
       "    <tr>\n",
       "      <th>4</th>\n",
       "      <td>1521971943593</td>\n",
       "      <td>5</td>\n",
       "      <td>q2067</td>\n",
       "      <td>a</td>\n",
       "      <td>13333</td>\n",
       "      <td>u145242</td>\n",
       "    </tr>\n",
       "  </tbody>\n",
       "</table>\n",
       "</div>"
      ],
      "text/plain": [
       "       timestamp  solving_id question_id user_answer  elapsed_time  user_id\n",
       "0  1521971827112           1       q8098           b         12000  u145242\n",
       "1  1521971855061           2       q8074           d         25000  u145242\n",
       "2  1521971879724           3        q176           b         22000  u145242\n",
       "3  1521971899710           4       q1279           c         17000  u145242\n",
       "4  1521971943593           5       q2067           a         13333  u145242"
      ]
     },
     "execution_count": 3,
     "metadata": {},
     "output_type": "execute_result"
    }
   ],
   "source": [
    "# Inspect Sampled KT1 Logs\n",
    "sampled_logs.head() # Display the first few rows"
   ]
  },
  {
   "cell_type": "markdown",
   "id": "533d2039",
   "metadata": {},
   "source": [
    "The initial preview of the data provides us with columns such as timestamp, solving_id, question_id, user_answer, elapsed_time and\tuser_id. This will help us understand the format and context of the data.\n",
    "\n",
    "#### General Information\n",
    "\n",
    "Here I used the info() function that provides an overview of the dataset. This is useful for understanding the overall structure of the data and whether there are any columns with missing or incorrectly formatted data that I need to address."
   ]
  },
  {
   "cell_type": "code",
   "execution_count": 4,
   "id": "aaeefc50",
   "metadata": {},
   "outputs": [
    {
     "name": "stdout",
     "output_type": "stream",
     "text": [
      "\n",
      "=== KT1 Info ===\n",
      "<class 'pandas.core.frame.DataFrame'>\n",
      "RangeIndex: 117512 entries, 0 to 117511\n",
      "Data columns (total 6 columns):\n",
      " #   Column        Non-Null Count   Dtype \n",
      "---  ------        --------------   ----- \n",
      " 0   timestamp     117512 non-null  int64 \n",
      " 1   solving_id    117512 non-null  int64 \n",
      " 2   question_id   117512 non-null  object\n",
      " 3   user_answer   117502 non-null  object\n",
      " 4   elapsed_time  117512 non-null  int64 \n",
      " 5   user_id       117512 non-null  object\n",
      "dtypes: int64(3), object(3)\n",
      "memory usage: 5.4+ MB\n"
     ]
    }
   ],
   "source": [
    "print(\"\\n=== KT1 Info ===\")\n",
    "sampled_logs.info() # Show basic information"
   ]
  },
  {
   "cell_type": "markdown",
   "id": "34256a84",
   "metadata": {},
   "source": [
    "The above DataFrame contains **117,512 rows and 6 columns**, storing data on user interactions with questions. It tracks each attempt with a `timestamp`, `solving_id`, and `question_id`, while also recording users' answers (`user_answer`), their response time (`elapsed_time`), and unique identifiers (`user_id`). Most columns have complete data, except `user_answer`, which has **10 missing entries**. This also shows that `question_id is object`, needs conversion and `timestamp` is Unix-style int64, needs datetime parsing.\n",
    "\n",
    "#### Statistical Summary\n",
    "\n",
    " The describe() function gives us a statistical summary of the numerical columns in the dataset. This summary helps me identify any potential issues, such as outliers or skewed distributions, that I may need to address."
   ]
  },
  {
   "cell_type": "code",
   "execution_count": 5,
   "id": "9aa4d62e",
   "metadata": {},
   "outputs": [
    {
     "name": "stdout",
     "output_type": "stream",
     "text": [
      "\n",
      "=== KT1 Description ===\n"
     ]
    },
    {
     "data": {
      "text/html": [
       "<div>\n",
       "<style scoped>\n",
       "    .dataframe tbody tr th:only-of-type {\n",
       "        vertical-align: middle;\n",
       "    }\n",
       "\n",
       "    .dataframe tbody tr th {\n",
       "        vertical-align: top;\n",
       "    }\n",
       "\n",
       "    .dataframe thead th {\n",
       "        text-align: right;\n",
       "    }\n",
       "</style>\n",
       "<table border=\"1\" class=\"dataframe\">\n",
       "  <thead>\n",
       "    <tr style=\"text-align: right;\">\n",
       "      <th></th>\n",
       "      <th>timestamp</th>\n",
       "      <th>solving_id</th>\n",
       "      <th>elapsed_time</th>\n",
       "    </tr>\n",
       "  </thead>\n",
       "  <tbody>\n",
       "    <tr>\n",
       "      <th>count</th>\n",
       "      <td>1.175120e+05</td>\n",
       "      <td>117512.000000</td>\n",
       "      <td>1.175120e+05</td>\n",
       "    </tr>\n",
       "    <tr>\n",
       "      <th>mean</th>\n",
       "      <td>1.542604e+12</td>\n",
       "      <td>995.423829</td>\n",
       "      <td>2.492519e+04</td>\n",
       "    </tr>\n",
       "    <tr>\n",
       "      <th>std</th>\n",
       "      <td>2.104613e+10</td>\n",
       "      <td>1481.194482</td>\n",
       "      <td>2.844269e+04</td>\n",
       "    </tr>\n",
       "    <tr>\n",
       "      <th>min</th>\n",
       "      <td>1.492530e+12</td>\n",
       "      <td>1.000000</td>\n",
       "      <td>0.000000e+00</td>\n",
       "    </tr>\n",
       "    <tr>\n",
       "      <th>25%</th>\n",
       "      <td>1.526855e+12</td>\n",
       "      <td>79.000000</td>\n",
       "      <td>1.600000e+04</td>\n",
       "    </tr>\n",
       "    <tr>\n",
       "      <th>50%</th>\n",
       "      <td>1.548086e+12</td>\n",
       "      <td>360.000000</td>\n",
       "      <td>2.100000e+04</td>\n",
       "    </tr>\n",
       "    <tr>\n",
       "      <th>75%</th>\n",
       "      <td>1.561172e+12</td>\n",
       "      <td>1169.000000</td>\n",
       "      <td>2.900000e+04</td>\n",
       "    </tr>\n",
       "    <tr>\n",
       "      <th>max</th>\n",
       "      <td>1.575304e+12</td>\n",
       "      <td>6949.000000</td>\n",
       "      <td>5.468000e+06</td>\n",
       "    </tr>\n",
       "  </tbody>\n",
       "</table>\n",
       "</div>"
      ],
      "text/plain": [
       "          timestamp     solving_id  elapsed_time\n",
       "count  1.175120e+05  117512.000000  1.175120e+05\n",
       "mean   1.542604e+12     995.423829  2.492519e+04\n",
       "std    2.104613e+10    1481.194482  2.844269e+04\n",
       "min    1.492530e+12       1.000000  0.000000e+00\n",
       "25%    1.526855e+12      79.000000  1.600000e+04\n",
       "50%    1.548086e+12     360.000000  2.100000e+04\n",
       "75%    1.561172e+12    1169.000000  2.900000e+04\n",
       "max    1.575304e+12    6949.000000  5.468000e+06"
      ]
     },
     "execution_count": 5,
     "metadata": {},
     "output_type": "execute_result"
    }
   ],
   "source": [
    "print(\"\\n=== KT1 Description ===\")\n",
    "sampled_logs.describe() # Show descriptive statistics"
   ]
  },
  {
   "cell_type": "markdown",
   "id": "e60ea0c8",
   "metadata": {},
   "source": [
    "In the above output, `timestamp` shows the range of timestamps in milliseconds, with a mean of 1.5426e+12 and a large standard deviation indicating wide variation in the times. solving_id `ranges` from 1 to 6949, with most entries being concentrated below 1000 `elapsed_time` has a large spread, with values ranging from 0 to 5.46 million ms, which may indicate some outliers in the time taken for solving questions.\n",
    "\n",
    "#### Missing Values Check\n",
    "\n",
    "Even tough missing values are already checked in **General Information**. I will check again properly just to make sure"
   ]
  },
  {
   "cell_type": "code",
   "execution_count": 6,
   "id": "ecaef063",
   "metadata": {},
   "outputs": [
    {
     "name": "stdout",
     "output_type": "stream",
     "text": [
      "\n",
      "=== KT1 Missing Values ===\n"
     ]
    },
    {
     "data": {
      "text/plain": [
       "timestamp        0\n",
       "solving_id       0\n",
       "question_id      0\n",
       "user_answer     10\n",
       "elapsed_time     0\n",
       "user_id          0\n",
       "dtype: int64"
      ]
     },
     "execution_count": 6,
     "metadata": {},
     "output_type": "execute_result"
    }
   ],
   "source": [
    "print(\"\\n=== KT1 Missing Values ===\")\n",
    "sampled_logs.isna().sum() # Count the number of missing values in each column"
   ]
  },
  {
   "cell_type": "markdown",
   "id": "4cd9c453",
   "metadata": {},
   "source": [
    "It confirms that there are 10 missing values in the user_answer column.\n",
    "\n",
    "#### Checking for Duplicates\n",
    "\n",
    "Here I will  check for duplicate rows in the dataset by using duplicated() function which detects duplicates and sum() counts how many duplicate rows exist in the DataFrame."
   ]
  },
  {
   "cell_type": "code",
   "execution_count": 7,
   "id": "8164a5e0",
   "metadata": {},
   "outputs": [
    {
     "name": "stdout",
     "output_type": "stream",
     "text": [
      "\n",
      "=== KT1 Duplicates ===\n",
      "Number of duplicate rows: 0\n"
     ]
    }
   ],
   "source": [
    "print(\"\\n=== KT1 Duplicates ===\")\n",
    "duplicate_rows = sampled_logs.duplicated().sum()  # Count how many rows are duplicates\n",
    "print(f\"Number of duplicate rows: {duplicate_rows}\")"
   ]
  },
  {
   "cell_type": "markdown",
   "id": "8b3a6a70",
   "metadata": {},
   "source": [
    "The output above confirm that there are no duplicate rows in the sampled_logs\n",
    "\n",
    "#### Cleaning the Data\n",
    "\n",
    "Here I will drop rows with missing `user_answer` values using dropna(). Convert the `timestamp` column from Unix time (milliseconds) to a human-readable datetime format. This makes it easier to work with and analyze time-based data. Ensure data consistency by explicitly converting columns to the appropriate data types (str for `question_id`, `user_id` and `user_answer`), this is important for consistency, especially for operations like grouping, filtering, or merging datasets."
   ]
  },
  {
   "cell_type": "code",
   "execution_count": 14,
   "id": "56bb1250",
   "metadata": {},
   "outputs": [],
   "source": [
    "# Drop rows where user_answer is null (incomplete responses)\n",
    "sampled_logs = sampled_logs.dropna(subset=[\"user_answer\"])\n",
    "\n",
    "# Convert timestamp from milliseconds to datetime format\n",
    "sampled_logs[\"timestamp\"] = pd.to_datetime(sampled_logs[\"timestamp\"], unit='ms')\n",
    "\n",
    "# Ensure the correct (strings) types for certain columns to avoid errors during processing\n",
    "sampled_logs[\"question_id\"] = sampled_logs[\"question_id\"].astype(str)\n",
    "sampled_logs[\"user_id\"] = sampled_logs[\"user_id\"].astype(str)\n",
    "sampled_logs[\"user_answer\"] = sampled_logs[\"user_answer\"].fillna('').astype(str)  # Replace NaNs with an empty string before converting to str"
   ]
  },
  {
   "cell_type": "markdown",
   "id": "40f6ccff",
   "metadata": {},
   "source": [
    "The below code filters out rows where the `elapsed_time` is either 0 or exceeds 5 minutes (300,000 ms). Extreme values, especially those over 5 minutes, might represent errors or outliers and are excluded from the analysis."
   ]
  },
  {
   "cell_type": "code",
   "execution_count": 15,
   "id": "38b1ac7d",
   "metadata": {},
   "outputs": [],
   "source": [
    "# Filter out records where elapsed_time is either zero or greater than 5 minutes\n",
    "sampled_logs = sampled_logs[\n",
    "    (sampled_logs[\"elapsed_time\"] > 0) & \n",
    "    (sampled_logs[\"elapsed_time\"] <= 300000)\n",
    "]"
   ]
  },
  {
   "cell_type": "markdown",
   "id": "ffbf052e",
   "metadata": {},
   "source": [
    "#### Checking the data after cleaning\n",
    "\n",
    "##### timestamp"
   ]
  },
  {
   "cell_type": "code",
   "execution_count": 16,
   "id": "cda94573",
   "metadata": {},
   "outputs": [
    {
     "data": {
      "text/html": [
       "<div>\n",
       "<style scoped>\n",
       "    .dataframe tbody tr th:only-of-type {\n",
       "        vertical-align: middle;\n",
       "    }\n",
       "\n",
       "    .dataframe tbody tr th {\n",
       "        vertical-align: top;\n",
       "    }\n",
       "\n",
       "    .dataframe thead th {\n",
       "        text-align: right;\n",
       "    }\n",
       "</style>\n",
       "<table border=\"1\" class=\"dataframe\">\n",
       "  <thead>\n",
       "    <tr style=\"text-align: right;\">\n",
       "      <th></th>\n",
       "      <th>timestamp</th>\n",
       "      <th>solving_id</th>\n",
       "      <th>question_id</th>\n",
       "      <th>user_answer</th>\n",
       "      <th>elapsed_time</th>\n",
       "      <th>user_id</th>\n",
       "    </tr>\n",
       "  </thead>\n",
       "  <tbody>\n",
       "    <tr>\n",
       "      <th>0</th>\n",
       "      <td>2018-03-25 09:57:07.112</td>\n",
       "      <td>1</td>\n",
       "      <td>q8098</td>\n",
       "      <td>b</td>\n",
       "      <td>12000</td>\n",
       "      <td>u145242</td>\n",
       "    </tr>\n",
       "    <tr>\n",
       "      <th>1</th>\n",
       "      <td>2018-03-25 09:57:35.061</td>\n",
       "      <td>2</td>\n",
       "      <td>q8074</td>\n",
       "      <td>d</td>\n",
       "      <td>25000</td>\n",
       "      <td>u145242</td>\n",
       "    </tr>\n",
       "    <tr>\n",
       "      <th>2</th>\n",
       "      <td>2018-03-25 09:57:59.724</td>\n",
       "      <td>3</td>\n",
       "      <td>q176</td>\n",
       "      <td>b</td>\n",
       "      <td>22000</td>\n",
       "      <td>u145242</td>\n",
       "    </tr>\n",
       "    <tr>\n",
       "      <th>3</th>\n",
       "      <td>2018-03-25 09:58:19.710</td>\n",
       "      <td>4</td>\n",
       "      <td>q1279</td>\n",
       "      <td>c</td>\n",
       "      <td>17000</td>\n",
       "      <td>u145242</td>\n",
       "    </tr>\n",
       "    <tr>\n",
       "      <th>4</th>\n",
       "      <td>2018-03-25 09:59:03.593</td>\n",
       "      <td>5</td>\n",
       "      <td>q2067</td>\n",
       "      <td>a</td>\n",
       "      <td>13333</td>\n",
       "      <td>u145242</td>\n",
       "    </tr>\n",
       "  </tbody>\n",
       "</table>\n",
       "</div>"
      ],
      "text/plain": [
       "                timestamp  solving_id question_id user_answer  elapsed_time  \\\n",
       "0 2018-03-25 09:57:07.112           1       q8098           b         12000   \n",
       "1 2018-03-25 09:57:35.061           2       q8074           d         25000   \n",
       "2 2018-03-25 09:57:59.724           3        q176           b         22000   \n",
       "3 2018-03-25 09:58:19.710           4       q1279           c         17000   \n",
       "4 2018-03-25 09:59:03.593           5       q2067           a         13333   \n",
       "\n",
       "   user_id  \n",
       "0  u145242  \n",
       "1  u145242  \n",
       "2  u145242  \n",
       "3  u145242  \n",
       "4  u145242  "
      ]
     },
     "execution_count": 16,
     "metadata": {},
     "output_type": "execute_result"
    }
   ],
   "source": [
    "sampled_logs.head()  # Display the first few rows of the cleaned sampled_logs DataFrame"
   ]
  },
  {
   "cell_type": "markdown",
   "id": "338f9777",
   "metadata": {},
   "source": [
    "Now  `timestamp` looks human readable and the format is correct. It’s now in a proper datetime format, which shows both the date and time with millisecond precision (e.g., `2018-03-25 09:57:07.112`).\n",
    "\n",
    "Now I will **check the range of dates** by making sure the timestamps cover the expected period and are not too far in the future or too far in the past."
   ]
  },
  {
   "cell_type": "code",
   "execution_count": 17,
   "id": "eb29888b",
   "metadata": {},
   "outputs": [
    {
     "data": {
      "text/plain": [
       "(Timestamp('2017-04-18 15:44:40.218000'),\n",
       " Timestamp('2019-12-02 16:30:10.437000'))"
      ]
     },
     "execution_count": 17,
     "metadata": {},
     "output_type": "execute_result"
    }
   ],
   "source": [
    "sampled_logs['timestamp'].min(), sampled_logs['timestamp'].max()  # Check the range of dates"
   ]
  },
  {
   "cell_type": "markdown",
   "id": "25eed2ab",
   "metadata": {},
   "source": [
    "This range seems perfectly reasonable. **The start date** (`2017-04-18`) and **end date** (`2019-12-02`) span over more than two years. This is a typical range for data collected over a long period, like logs for user interactions, exam responses or learning system activities. The timestamps also include **millisecond precision** (e.g., `15:44:40.218000`), indicating that the data collection is quite detailed, which is consistent with the way I converted the `timestamp` column from milliseconds to datetime.\n",
    "\n",
    "##### Checking Null values & Data types"
   ]
  },
  {
   "cell_type": "code",
   "execution_count": 18,
   "id": "a1903012",
   "metadata": {},
   "outputs": [
    {
     "name": "stdout",
     "output_type": "stream",
     "text": [
      "\n",
      "=== KT1 Info ===\n",
      "<class 'pandas.core.frame.DataFrame'>\n",
      "Index: 117167 entries, 0 to 117511\n",
      "Data columns (total 6 columns):\n",
      " #   Column        Non-Null Count   Dtype         \n",
      "---  ------        --------------   -----         \n",
      " 0   timestamp     117167 non-null  datetime64[ns]\n",
      " 1   solving_id    117167 non-null  int64         \n",
      " 2   question_id   117167 non-null  object        \n",
      " 3   user_answer   117167 non-null  object        \n",
      " 4   elapsed_time  117167 non-null  int64         \n",
      " 5   user_id       117167 non-null  object        \n",
      "dtypes: datetime64[ns](1), int64(2), object(3)\n",
      "memory usage: 6.3+ MB\n"
     ]
    }
   ],
   "source": [
    "print(\"\\n=== KT1 Info ===\")\n",
    "sampled_logs.info() # Show basic information"
   ]
  },
  {
   "cell_type": "markdown",
   "id": "48c9d20c",
   "metadata": {},
   "source": [
    "The key differences between the dataset **before** and **after** the transformation are as follows:\n",
    "\n",
    "**`timestamp` Column:**\n",
    "\n",
    "- **Before**: The `timestamp` column had the type `int64`, indicating that it was likely stored as raw milliseconds or Unix timestamps.\n",
    "- **After**: The `timestamp` column is now correctly converted to `datetime64[ns]`, which is the expected format for handling dates and times in pandas. This means I have successfully converted the raw timestamp values to actual datetime objects.\n",
    "\n",
    "**`user_answer` Column:**\n",
    "\n",
    "- **Before**: The `user_answer` column had **10 missing values**\n",
    "- **After**: The missing values in the `user_answer` column have been **dropped**\n",
    "\n",
    "**Memory Usage:**\n",
    "\n",
    "- **Before**: The memory usage was **5.4 MB**, which is expected for a dataset of this size.\n",
    "- **After**: The memory usage increased slightly to **6.3 MB**, likely because of the conversion of the `timestamp` column from an integer (which uses less memory) to a `datetime64` format (which takes up more space).\n",
    "\n",
    "### 2. Questions\n",
    "\n",
    "Now the same process as ***1.Sampled KT1 Logs*** is repeated for ***2. Questions***.\n",
    "\n",
    "#### Preview the Data"
   ]
  },
  {
   "cell_type": "code",
   "execution_count": 20,
   "id": "75e49d4a",
   "metadata": {},
   "outputs": [
    {
     "name": "stdout",
     "output_type": "stream",
     "text": [
      "=== Questions Preview ===\n"
     ]
    },
    {
     "data": {
      "text/html": [
       "<div>\n",
       "<style scoped>\n",
       "    .dataframe tbody tr th:only-of-type {\n",
       "        vertical-align: middle;\n",
       "    }\n",
       "\n",
       "    .dataframe tbody tr th {\n",
       "        vertical-align: top;\n",
       "    }\n",
       "\n",
       "    .dataframe thead th {\n",
       "        text-align: right;\n",
       "    }\n",
       "</style>\n",
       "<table border=\"1\" class=\"dataframe\">\n",
       "  <thead>\n",
       "    <tr style=\"text-align: right;\">\n",
       "      <th></th>\n",
       "      <th>question_id</th>\n",
       "      <th>bundle_id</th>\n",
       "      <th>explanation_id</th>\n",
       "      <th>correct_answer</th>\n",
       "      <th>part</th>\n",
       "      <th>tags</th>\n",
       "      <th>deployed_at</th>\n",
       "    </tr>\n",
       "  </thead>\n",
       "  <tbody>\n",
       "    <tr>\n",
       "      <th>0</th>\n",
       "      <td>q1</td>\n",
       "      <td>b1</td>\n",
       "      <td>e1</td>\n",
       "      <td>b</td>\n",
       "      <td>1</td>\n",
       "      <td>1;2;179;181</td>\n",
       "      <td>1558093217098</td>\n",
       "    </tr>\n",
       "    <tr>\n",
       "      <th>1</th>\n",
       "      <td>q2</td>\n",
       "      <td>b2</td>\n",
       "      <td>e2</td>\n",
       "      <td>a</td>\n",
       "      <td>1</td>\n",
       "      <td>15;2;182</td>\n",
       "      <td>1558093219720</td>\n",
       "    </tr>\n",
       "    <tr>\n",
       "      <th>2</th>\n",
       "      <td>q3</td>\n",
       "      <td>b3</td>\n",
       "      <td>e3</td>\n",
       "      <td>b</td>\n",
       "      <td>1</td>\n",
       "      <td>14;2;179;183</td>\n",
       "      <td>1558093222784</td>\n",
       "    </tr>\n",
       "    <tr>\n",
       "      <th>3</th>\n",
       "      <td>q4</td>\n",
       "      <td>b4</td>\n",
       "      <td>e4</td>\n",
       "      <td>b</td>\n",
       "      <td>1</td>\n",
       "      <td>9;2;179;184</td>\n",
       "      <td>1558093225357</td>\n",
       "    </tr>\n",
       "    <tr>\n",
       "      <th>4</th>\n",
       "      <td>q5</td>\n",
       "      <td>b5</td>\n",
       "      <td>e5</td>\n",
       "      <td>c</td>\n",
       "      <td>1</td>\n",
       "      <td>8;2;179;181</td>\n",
       "      <td>1558093228439</td>\n",
       "    </tr>\n",
       "  </tbody>\n",
       "</table>\n",
       "</div>"
      ],
      "text/plain": [
       "  question_id bundle_id explanation_id correct_answer  part          tags  \\\n",
       "0          q1        b1             e1              b     1   1;2;179;181   \n",
       "1          q2        b2             e2              a     1      15;2;182   \n",
       "2          q3        b3             e3              b     1  14;2;179;183   \n",
       "3          q4        b4             e4              b     1   9;2;179;184   \n",
       "4          q5        b5             e5              c     1   8;2;179;181   \n",
       "\n",
       "     deployed_at  \n",
       "0  1558093217098  \n",
       "1  1558093219720  \n",
       "2  1558093222784  \n",
       "3  1558093225357  \n",
       "4  1558093228439  "
      ]
     },
     "metadata": {},
     "output_type": "display_data"
    }
   ],
   "source": [
    "# Inspect Questions\n",
    "print(\"=== Questions Preview ===\")\n",
    "display(questions.head())"
   ]
  },
  {
   "cell_type": "markdown",
   "id": "d5e45f0b",
   "metadata": {},
   "source": [
    "The above preview shows the following key columns:\n",
    "- **question_id:** A unique identifier for each question.\n",
    "- **bundle_id:** The associated bundle to which the question belongs.\n",
    "- **explanation_id:** Links to an explanation of the question.\n",
    "- **correct_answer:** The correct answer for the question.\n",
    "- **part:** The section or part to which the question belongs (e.g., part of a larger exam or module).\n",
    "- **tags:** Associated tags for the question, which might represent topics or categories.\n",
    "- **deployed_at:** The timestamp when the question was deployed (Unix timestamp in milliseconds).\n",
    "\n",
    "#### General Information"
   ]
  },
  {
   "cell_type": "code",
   "execution_count": 21,
   "id": "211e122e",
   "metadata": {},
   "outputs": [
    {
     "name": "stdout",
     "output_type": "stream",
     "text": [
      "\n",
      "=== Questions Info ===\n",
      "<class 'pandas.core.frame.DataFrame'>\n",
      "RangeIndex: 13169 entries, 0 to 13168\n",
      "Data columns (total 7 columns):\n",
      " #   Column          Non-Null Count  Dtype \n",
      "---  ------          --------------  ----- \n",
      " 0   question_id     13169 non-null  object\n",
      " 1   bundle_id       13169 non-null  object\n",
      " 2   explanation_id  13169 non-null  object\n",
      " 3   correct_answer  13169 non-null  object\n",
      " 4   part            13169 non-null  int64 \n",
      " 5   tags            13169 non-null  object\n",
      " 6   deployed_at     13169 non-null  int64 \n",
      "dtypes: int64(2), object(5)\n",
      "memory usage: 720.3+ KB\n"
     ]
    }
   ],
   "source": [
    "print(\"\\n=== Questions Info ===\")\n",
    "questions.info()"
   ]
  },
  {
   "cell_type": "markdown",
   "id": "db51708e",
   "metadata": {},
   "source": [
    "In the above output, the `questions` DataFrame contains **13,169 entries** (rows). There are 7 columns: `question_id`, `bundle_id`, `explanation_id`, `correct_answer`, `part`, `tags` and `deployed_at`. The `part` and `deployed_at` columns have numeric data types (`int64`), while the other columns (`question_id`, `bundle_id`, etc.) are of type `object` (strings). There are no missing (null) values in any of the columns, as indicated by the \"non-null\" count matching the total number of rows.\n",
    "\n",
    "#### Statistical Summary"
   ]
  },
  {
   "cell_type": "code",
   "execution_count": 22,
   "id": "a0efa3c4",
   "metadata": {},
   "outputs": [
    {
     "name": "stdout",
     "output_type": "stream",
     "text": [
      "\n",
      "=== Questions Description ===\n"
     ]
    },
    {
     "data": {
      "text/html": [
       "<div>\n",
       "<style scoped>\n",
       "    .dataframe tbody tr th:only-of-type {\n",
       "        vertical-align: middle;\n",
       "    }\n",
       "\n",
       "    .dataframe tbody tr th {\n",
       "        vertical-align: top;\n",
       "    }\n",
       "\n",
       "    .dataframe thead th {\n",
       "        text-align: right;\n",
       "    }\n",
       "</style>\n",
       "<table border=\"1\" class=\"dataframe\">\n",
       "  <thead>\n",
       "    <tr style=\"text-align: right;\">\n",
       "      <th></th>\n",
       "      <th>question_id</th>\n",
       "      <th>bundle_id</th>\n",
       "      <th>explanation_id</th>\n",
       "      <th>correct_answer</th>\n",
       "      <th>part</th>\n",
       "      <th>tags</th>\n",
       "      <th>deployed_at</th>\n",
       "    </tr>\n",
       "  </thead>\n",
       "  <tbody>\n",
       "    <tr>\n",
       "      <th>count</th>\n",
       "      <td>13169</td>\n",
       "      <td>13169</td>\n",
       "      <td>13169</td>\n",
       "      <td>13169</td>\n",
       "      <td>13169.000000</td>\n",
       "      <td>13169</td>\n",
       "      <td>1.316900e+04</td>\n",
       "    </tr>\n",
       "    <tr>\n",
       "      <th>unique</th>\n",
       "      <td>13169</td>\n",
       "      <td>9534</td>\n",
       "      <td>9534</td>\n",
       "      <td>4</td>\n",
       "      <td>NaN</td>\n",
       "      <td>1792</td>\n",
       "      <td>NaN</td>\n",
       "    </tr>\n",
       "    <tr>\n",
       "      <th>top</th>\n",
       "      <td>q18143</td>\n",
       "      <td>b5709</td>\n",
       "      <td>e5709</td>\n",
       "      <td>b</td>\n",
       "      <td>NaN</td>\n",
       "      <td>-1</td>\n",
       "      <td>NaN</td>\n",
       "    </tr>\n",
       "    <tr>\n",
       "      <th>freq</th>\n",
       "      <td>1</td>\n",
       "      <td>5</td>\n",
       "      <td>5</td>\n",
       "      <td>3624</td>\n",
       "      <td>NaN</td>\n",
       "      <td>797</td>\n",
       "      <td>NaN</td>\n",
       "    </tr>\n",
       "    <tr>\n",
       "      <th>mean</th>\n",
       "      <td>NaN</td>\n",
       "      <td>NaN</td>\n",
       "      <td>NaN</td>\n",
       "      <td>NaN</td>\n",
       "      <td>4.460172</td>\n",
       "      <td>NaN</td>\n",
       "      <td>1.304772e+12</td>\n",
       "    </tr>\n",
       "    <tr>\n",
       "      <th>std</th>\n",
       "      <td>NaN</td>\n",
       "      <td>NaN</td>\n",
       "      <td>NaN</td>\n",
       "      <td>NaN</td>\n",
       "      <td>1.620358</td>\n",
       "      <td>NaN</td>\n",
       "      <td>5.688381e+11</td>\n",
       "    </tr>\n",
       "    <tr>\n",
       "      <th>min</th>\n",
       "      <td>NaN</td>\n",
       "      <td>NaN</td>\n",
       "      <td>NaN</td>\n",
       "      <td>NaN</td>\n",
       "      <td>1.000000</td>\n",
       "      <td>NaN</td>\n",
       "      <td>-1.000000e+00</td>\n",
       "    </tr>\n",
       "    <tr>\n",
       "      <th>25%</th>\n",
       "      <td>NaN</td>\n",
       "      <td>NaN</td>\n",
       "      <td>NaN</td>\n",
       "      <td>NaN</td>\n",
       "      <td>3.000000</td>\n",
       "      <td>NaN</td>\n",
       "      <td>1.514962e+12</td>\n",
       "    </tr>\n",
       "    <tr>\n",
       "      <th>50%</th>\n",
       "      <td>NaN</td>\n",
       "      <td>NaN</td>\n",
       "      <td>NaN</td>\n",
       "      <td>NaN</td>\n",
       "      <td>5.000000</td>\n",
       "      <td>NaN</td>\n",
       "      <td>1.558093e+12</td>\n",
       "    </tr>\n",
       "    <tr>\n",
       "      <th>75%</th>\n",
       "      <td>NaN</td>\n",
       "      <td>NaN</td>\n",
       "      <td>NaN</td>\n",
       "      <td>NaN</td>\n",
       "      <td>5.000000</td>\n",
       "      <td>NaN</td>\n",
       "      <td>1.568688e+12</td>\n",
       "    </tr>\n",
       "    <tr>\n",
       "      <th>max</th>\n",
       "      <td>NaN</td>\n",
       "      <td>NaN</td>\n",
       "      <td>NaN</td>\n",
       "      <td>NaN</td>\n",
       "      <td>7.000000</td>\n",
       "      <td>NaN</td>\n",
       "      <td>1.574066e+12</td>\n",
       "    </tr>\n",
       "  </tbody>\n",
       "</table>\n",
       "</div>"
      ],
      "text/plain": [
       "       question_id bundle_id explanation_id correct_answer          part  \\\n",
       "count        13169     13169          13169          13169  13169.000000   \n",
       "unique       13169      9534           9534              4           NaN   \n",
       "top         q18143     b5709          e5709              b           NaN   \n",
       "freq             1         5              5           3624           NaN   \n",
       "mean           NaN       NaN            NaN            NaN      4.460172   \n",
       "std            NaN       NaN            NaN            NaN      1.620358   \n",
       "min            NaN       NaN            NaN            NaN      1.000000   \n",
       "25%            NaN       NaN            NaN            NaN      3.000000   \n",
       "50%            NaN       NaN            NaN            NaN      5.000000   \n",
       "75%            NaN       NaN            NaN            NaN      5.000000   \n",
       "max            NaN       NaN            NaN            NaN      7.000000   \n",
       "\n",
       "         tags   deployed_at  \n",
       "count   13169  1.316900e+04  \n",
       "unique   1792           NaN  \n",
       "top        -1           NaN  \n",
       "freq      797           NaN  \n",
       "mean      NaN  1.304772e+12  \n",
       "std       NaN  5.688381e+11  \n",
       "min       NaN -1.000000e+00  \n",
       "25%       NaN  1.514962e+12  \n",
       "50%       NaN  1.558093e+12  \n",
       "75%       NaN  1.568688e+12  \n",
       "max       NaN  1.574066e+12  "
      ]
     },
     "metadata": {},
     "output_type": "display_data"
    }
   ],
   "source": [
    "print(\"\\n=== Questions Description ===\")\n",
    "display(questions.describe(include='all'))"
   ]
  },
  {
   "cell_type": "markdown",
   "id": "a764b3bb",
   "metadata": {},
   "source": [
    "The above output shows the following:\n",
    "- **question_id:** Every question has a unique ID.\n",
    "- **bundle_id & explanation_id:** There are 9,534 unique bundles and explanations, but the most frequent bundle and explanation appear 5 times.\n",
    "- **correct_answer:** The `correct_answer` column has 4 unique values (likely \"a\", \"b\", \"c\", \"d\"), with answer \"b\" being the most frequent (3,624 times).\n",
    "- **part:** The part column has values between 1 and 7, with part 5 being the most common.\n",
    "- **tags:** There are 1,792 unique tags associated with the questions.\n",
    "- **deployed_at:** The `deployed_at` column is a Unix timestamp. The summary statistics show the range of deployment times, with a minimum timestamp of `-1`, indicating a possible erroneous or special value that needs to be fixed.\n",
    "\n",
    "#### Missing Values Check"
   ]
  },
  {
   "cell_type": "code",
   "execution_count": 23,
   "id": "29d84361",
   "metadata": {},
   "outputs": [
    {
     "name": "stdout",
     "output_type": "stream",
     "text": [
      "\n",
      "=== Questions Missing Values ===\n",
      "question_id       0\n",
      "bundle_id         0\n",
      "explanation_id    0\n",
      "correct_answer    0\n",
      "part              0\n",
      "tags              0\n",
      "deployed_at       0\n",
      "dtype: int64\n"
     ]
    }
   ],
   "source": [
    "print(\"\\n=== Questions Missing Values ===\")\n",
    "print(questions.isna().sum())"
   ]
  },
  {
   "cell_type": "markdown",
   "id": "d55c7902",
   "metadata": {},
   "source": [
    "#### Checking for Duplicates"
   ]
  },
  {
   "cell_type": "code",
   "execution_count": 24,
   "id": "63ab8d15",
   "metadata": {},
   "outputs": [
    {
     "name": "stdout",
     "output_type": "stream",
     "text": [
      "\n",
      "=== Questions Duplicates ===\n",
      "Number of duplicate rows: 0\n"
     ]
    }
   ],
   "source": [
    "print(\"\\n=== Questions Duplicates ===\")\n",
    "duplicate_rows = questions.duplicated().sum() # Count how many rows are duplicates\n",
    "print(f\"Number of duplicate rows: {duplicate_rows}\")"
   ]
  },
  {
   "cell_type": "markdown",
   "id": "2b571b32",
   "metadata": {},
   "source": [
    "As seen above, there are no missing and duplicated values.\n",
    "\n",
    "#### Cleaning the Data\n",
    "\n",
    "This code below removes any duplicate rows and rows with missing (NaN) values (although no rows were found to be missing, this step ensures data integrity). And **Convert `deployed_at` to datetime**: The `deployed_at` column is a Unix timestamp in milliseconds, which is converted into a human-readable `datetime` format using the `pd.to_datetime()` method."
   ]
  },
  {
   "cell_type": "code",
   "execution_count": 25,
   "id": "8994c2c8",
   "metadata": {},
   "outputs": [],
   "source": [
    "# Clean Questions\n",
    "questions = questions.drop_duplicates()\n",
    "questions = questions.dropna()\n",
    "# Convert deployed_at from milliseconds to datetime format\n",
    "questions['deployed_at'] = pd.to_datetime(questions['deployed_at'], unit='ms')"
   ]
  },
  {
   "cell_type": "markdown",
   "id": "76f96cf4",
   "metadata": {},
   "source": [
    "#### Checking the data after cleaning\n",
    "\n",
    "##### deployed_at"
   ]
  },
  {
   "cell_type": "code",
   "execution_count": 26,
   "id": "231a7417",
   "metadata": {},
   "outputs": [
    {
     "data": {
      "text/html": [
       "<div>\n",
       "<style scoped>\n",
       "    .dataframe tbody tr th:only-of-type {\n",
       "        vertical-align: middle;\n",
       "    }\n",
       "\n",
       "    .dataframe tbody tr th {\n",
       "        vertical-align: top;\n",
       "    }\n",
       "\n",
       "    .dataframe thead th {\n",
       "        text-align: right;\n",
       "    }\n",
       "</style>\n",
       "<table border=\"1\" class=\"dataframe\">\n",
       "  <thead>\n",
       "    <tr style=\"text-align: right;\">\n",
       "      <th></th>\n",
       "      <th>question_id</th>\n",
       "      <th>bundle_id</th>\n",
       "      <th>explanation_id</th>\n",
       "      <th>correct_answer</th>\n",
       "      <th>part</th>\n",
       "      <th>tags</th>\n",
       "      <th>deployed_at</th>\n",
       "    </tr>\n",
       "  </thead>\n",
       "  <tbody>\n",
       "    <tr>\n",
       "      <th>0</th>\n",
       "      <td>q1</td>\n",
       "      <td>b1</td>\n",
       "      <td>e1</td>\n",
       "      <td>b</td>\n",
       "      <td>1</td>\n",
       "      <td>1;2;179;181</td>\n",
       "      <td>2019-05-17 11:40:17.098</td>\n",
       "    </tr>\n",
       "    <tr>\n",
       "      <th>1</th>\n",
       "      <td>q2</td>\n",
       "      <td>b2</td>\n",
       "      <td>e2</td>\n",
       "      <td>a</td>\n",
       "      <td>1</td>\n",
       "      <td>15;2;182</td>\n",
       "      <td>2019-05-17 11:40:19.720</td>\n",
       "    </tr>\n",
       "    <tr>\n",
       "      <th>2</th>\n",
       "      <td>q3</td>\n",
       "      <td>b3</td>\n",
       "      <td>e3</td>\n",
       "      <td>b</td>\n",
       "      <td>1</td>\n",
       "      <td>14;2;179;183</td>\n",
       "      <td>2019-05-17 11:40:22.784</td>\n",
       "    </tr>\n",
       "    <tr>\n",
       "      <th>3</th>\n",
       "      <td>q4</td>\n",
       "      <td>b4</td>\n",
       "      <td>e4</td>\n",
       "      <td>b</td>\n",
       "      <td>1</td>\n",
       "      <td>9;2;179;184</td>\n",
       "      <td>2019-05-17 11:40:25.357</td>\n",
       "    </tr>\n",
       "    <tr>\n",
       "      <th>4</th>\n",
       "      <td>q5</td>\n",
       "      <td>b5</td>\n",
       "      <td>e5</td>\n",
       "      <td>c</td>\n",
       "      <td>1</td>\n",
       "      <td>8;2;179;181</td>\n",
       "      <td>2019-05-17 11:40:28.439</td>\n",
       "    </tr>\n",
       "  </tbody>\n",
       "</table>\n",
       "</div>"
      ],
      "text/plain": [
       "  question_id bundle_id explanation_id correct_answer  part          tags  \\\n",
       "0          q1        b1             e1              b     1   1;2;179;181   \n",
       "1          q2        b2             e2              a     1      15;2;182   \n",
       "2          q3        b3             e3              b     1  14;2;179;183   \n",
       "3          q4        b4             e4              b     1   9;2;179;184   \n",
       "4          q5        b5             e5              c     1   8;2;179;181   \n",
       "\n",
       "              deployed_at  \n",
       "0 2019-05-17 11:40:17.098  \n",
       "1 2019-05-17 11:40:19.720  \n",
       "2 2019-05-17 11:40:22.784  \n",
       "3 2019-05-17 11:40:25.357  \n",
       "4 2019-05-17 11:40:28.439  "
      ]
     },
     "metadata": {},
     "output_type": "display_data"
    }
   ],
   "source": [
    "display(questions.head())"
   ]
  },
  {
   "cell_type": "markdown",
   "id": "1c58bbf3",
   "metadata": {},
   "source": [
    "The `deployed_at` column is now in a `datetime` format, making it easier to analyze the deployment times.\n",
    "\n",
    "### 3. Lectures\n",
    "\n",
    "Again, the same process as ***1.Sampled KT1 Logs*** and ***2. Questions*** is repeated for ***3. Lectures***.\n",
    "\n",
    "#### Preview the Data"
   ]
  },
  {
   "cell_type": "code",
   "execution_count": 27,
   "id": "6a38eef4",
   "metadata": {},
   "outputs": [
    {
     "name": "stdout",
     "output_type": "stream",
     "text": [
      "=== Lectures Preview ===\n"
     ]
    },
    {
     "data": {
      "text/html": [
       "<div>\n",
       "<style scoped>\n",
       "    .dataframe tbody tr th:only-of-type {\n",
       "        vertical-align: middle;\n",
       "    }\n",
       "\n",
       "    .dataframe tbody tr th {\n",
       "        vertical-align: top;\n",
       "    }\n",
       "\n",
       "    .dataframe thead th {\n",
       "        text-align: right;\n",
       "    }\n",
       "</style>\n",
       "<table border=\"1\" class=\"dataframe\">\n",
       "  <thead>\n",
       "    <tr style=\"text-align: right;\">\n",
       "      <th></th>\n",
       "      <th>lecture_id</th>\n",
       "      <th>part</th>\n",
       "      <th>tags</th>\n",
       "      <th>video_length</th>\n",
       "      <th>deployed_at</th>\n",
       "    </tr>\n",
       "  </thead>\n",
       "  <tbody>\n",
       "    <tr>\n",
       "      <th>0</th>\n",
       "      <td>l520</td>\n",
       "      <td>5</td>\n",
       "      <td>142</td>\n",
       "      <td>-1</td>\n",
       "      <td>-1</td>\n",
       "    </tr>\n",
       "    <tr>\n",
       "      <th>1</th>\n",
       "      <td>l592</td>\n",
       "      <td>6</td>\n",
       "      <td>142</td>\n",
       "      <td>-1</td>\n",
       "      <td>-1</td>\n",
       "    </tr>\n",
       "    <tr>\n",
       "      <th>2</th>\n",
       "      <td>l1259</td>\n",
       "      <td>1</td>\n",
       "      <td>222</td>\n",
       "      <td>359000</td>\n",
       "      <td>1570424729123</td>\n",
       "    </tr>\n",
       "    <tr>\n",
       "      <th>3</th>\n",
       "      <td>l1260</td>\n",
       "      <td>1</td>\n",
       "      <td>220</td>\n",
       "      <td>487000</td>\n",
       "      <td>1570424738105</td>\n",
       "    </tr>\n",
       "    <tr>\n",
       "      <th>4</th>\n",
       "      <td>l1261</td>\n",
       "      <td>1</td>\n",
       "      <td>221</td>\n",
       "      <td>441000</td>\n",
       "      <td>1570424743162</td>\n",
       "    </tr>\n",
       "  </tbody>\n",
       "</table>\n",
       "</div>"
      ],
      "text/plain": [
       "  lecture_id  part  tags  video_length    deployed_at\n",
       "0       l520     5   142            -1             -1\n",
       "1       l592     6   142            -1             -1\n",
       "2      l1259     1   222        359000  1570424729123\n",
       "3      l1260     1   220        487000  1570424738105\n",
       "4      l1261     1   221        441000  1570424743162"
      ]
     },
     "metadata": {},
     "output_type": "display_data"
    }
   ],
   "source": [
    "# Inspect Lectures\n",
    "print(\"=== Lectures Preview ===\")\n",
    "display(lectures.head())"
   ]
  },
  {
   "cell_type": "markdown",
   "id": "d0337cfa",
   "metadata": {},
   "source": [
    "The above output shows the following:\n",
    "- **lecture_id:** A unique identifier for each lecture.\n",
    "- **part:** The part or section of the lecture (e.g., part of a series).\n",
    "- **tags:** Numeric tags, possibly referring to the categories or topics of the lecture.\n",
    "- **video_length:** The length of the lecture video in milliseconds. The value `-1` could indicate missing or unavailable video length.\n",
    "- **deployed_at:** The Unix timestamp in milliseconds indicating when the lecture was deployed. Values of `-1` could indicate missing deployment times.\n",
    "\n",
    "#### General Information"
   ]
  },
  {
   "cell_type": "code",
   "execution_count": 28,
   "id": "5ec70413",
   "metadata": {},
   "outputs": [
    {
     "name": "stdout",
     "output_type": "stream",
     "text": [
      "\n",
      "=== Lectures Info ===\n",
      "<class 'pandas.core.frame.DataFrame'>\n",
      "RangeIndex: 1021 entries, 0 to 1020\n",
      "Data columns (total 5 columns):\n",
      " #   Column        Non-Null Count  Dtype \n",
      "---  ------        --------------  ----- \n",
      " 0   lecture_id    1021 non-null   object\n",
      " 1   part          1021 non-null   int64 \n",
      " 2   tags          1021 non-null   int64 \n",
      " 3   video_length  1021 non-null   int64 \n",
      " 4   deployed_at   1021 non-null   int64 \n",
      "dtypes: int64(4), object(1)\n",
      "memory usage: 40.0+ KB\n"
     ]
    }
   ],
   "source": [
    "print(\"\\n=== Lectures Info ===\")\n",
    "lectures.info()"
   ]
  },
  {
   "cell_type": "markdown",
   "id": "1bd0a307",
   "metadata": {},
   "source": [
    "In the above output, the `lectures` DataFrame contains **1,021 entries** (rows) and **5 columns**: `lecture_id`, `part`, `tags`, `video_length`, and `deployed_at`. All columns except `lecture_id` are of type `int64`, indicating that the data is numeric in nature, with `lecture_id` being of type `object` (string). The DataFrame has **no missing values** in any of the columns, as each column contains 1,021 non-null values.\n",
    "\n",
    "#### Statistical Summary"
   ]
  },
  {
   "cell_type": "code",
   "execution_count": 29,
   "id": "f84fe7b9",
   "metadata": {},
   "outputs": [
    {
     "name": "stdout",
     "output_type": "stream",
     "text": [
      "\n",
      "=== Lectures Description ===\n"
     ]
    },
    {
     "data": {
      "text/html": [
       "<div>\n",
       "<style scoped>\n",
       "    .dataframe tbody tr th:only-of-type {\n",
       "        vertical-align: middle;\n",
       "    }\n",
       "\n",
       "    .dataframe tbody tr th {\n",
       "        vertical-align: top;\n",
       "    }\n",
       "\n",
       "    .dataframe thead th {\n",
       "        text-align: right;\n",
       "    }\n",
       "</style>\n",
       "<table border=\"1\" class=\"dataframe\">\n",
       "  <thead>\n",
       "    <tr style=\"text-align: right;\">\n",
       "      <th></th>\n",
       "      <th>lecture_id</th>\n",
       "      <th>part</th>\n",
       "      <th>tags</th>\n",
       "      <th>video_length</th>\n",
       "      <th>deployed_at</th>\n",
       "    </tr>\n",
       "  </thead>\n",
       "  <tbody>\n",
       "    <tr>\n",
       "      <th>count</th>\n",
       "      <td>1021</td>\n",
       "      <td>1021.000000</td>\n",
       "      <td>1021.000000</td>\n",
       "      <td>1.021000e+03</td>\n",
       "      <td>1.021000e+03</td>\n",
       "    </tr>\n",
       "    <tr>\n",
       "      <th>unique</th>\n",
       "      <td>1021</td>\n",
       "      <td>NaN</td>\n",
       "      <td>NaN</td>\n",
       "      <td>NaN</td>\n",
       "      <td>NaN</td>\n",
       "    </tr>\n",
       "    <tr>\n",
       "      <th>top</th>\n",
       "      <td>l843</td>\n",
       "      <td>NaN</td>\n",
       "      <td>NaN</td>\n",
       "      <td>NaN</td>\n",
       "      <td>NaN</td>\n",
       "    </tr>\n",
       "    <tr>\n",
       "      <th>freq</th>\n",
       "      <td>1</td>\n",
       "      <td>NaN</td>\n",
       "      <td>NaN</td>\n",
       "      <td>NaN</td>\n",
       "      <td>NaN</td>\n",
       "    </tr>\n",
       "    <tr>\n",
       "      <th>mean</th>\n",
       "      <td>NaN</td>\n",
       "      <td>1.842311</td>\n",
       "      <td>69.219393</td>\n",
       "      <td>1.472973e+05</td>\n",
       "      <td>8.735165e+11</td>\n",
       "    </tr>\n",
       "    <tr>\n",
       "      <th>std</th>\n",
       "      <td>NaN</td>\n",
       "      <td>2.908340</td>\n",
       "      <td>83.938264</td>\n",
       "      <td>1.830251e+05</td>\n",
       "      <td>7.804772e+11</td>\n",
       "    </tr>\n",
       "    <tr>\n",
       "      <th>min</th>\n",
       "      <td>NaN</td>\n",
       "      <td>-1.000000</td>\n",
       "      <td>-1.000000</td>\n",
       "      <td>-1.000000e+00</td>\n",
       "      <td>-1.000000e+00</td>\n",
       "    </tr>\n",
       "    <tr>\n",
       "      <th>25%</th>\n",
       "      <td>NaN</td>\n",
       "      <td>-1.000000</td>\n",
       "      <td>-1.000000</td>\n",
       "      <td>-1.000000e+00</td>\n",
       "      <td>-1.000000e+00</td>\n",
       "    </tr>\n",
       "    <tr>\n",
       "      <th>50%</th>\n",
       "      <td>NaN</td>\n",
       "      <td>1.000000</td>\n",
       "      <td>33.000000</td>\n",
       "      <td>1.220000e+05</td>\n",
       "      <td>1.570425e+12</td>\n",
       "    </tr>\n",
       "    <tr>\n",
       "      <th>75%</th>\n",
       "      <td>NaN</td>\n",
       "      <td>5.000000</td>\n",
       "      <td>120.000000</td>\n",
       "      <td>2.320000e+05</td>\n",
       "      <td>1.570426e+12</td>\n",
       "    </tr>\n",
       "    <tr>\n",
       "      <th>max</th>\n",
       "      <td>NaN</td>\n",
       "      <td>7.000000</td>\n",
       "      <td>298.000000</td>\n",
       "      <td>1.042000e+06</td>\n",
       "      <td>1.570427e+12</td>\n",
       "    </tr>\n",
       "  </tbody>\n",
       "</table>\n",
       "</div>"
      ],
      "text/plain": [
       "       lecture_id         part         tags  video_length   deployed_at\n",
       "count        1021  1021.000000  1021.000000  1.021000e+03  1.021000e+03\n",
       "unique       1021          NaN          NaN           NaN           NaN\n",
       "top          l843          NaN          NaN           NaN           NaN\n",
       "freq            1          NaN          NaN           NaN           NaN\n",
       "mean          NaN     1.842311    69.219393  1.472973e+05  8.735165e+11\n",
       "std           NaN     2.908340    83.938264  1.830251e+05  7.804772e+11\n",
       "min           NaN    -1.000000    -1.000000 -1.000000e+00 -1.000000e+00\n",
       "25%           NaN    -1.000000    -1.000000 -1.000000e+00 -1.000000e+00\n",
       "50%           NaN     1.000000    33.000000  1.220000e+05  1.570425e+12\n",
       "75%           NaN     5.000000   120.000000  2.320000e+05  1.570426e+12\n",
       "max           NaN     7.000000   298.000000  1.042000e+06  1.570427e+12"
      ]
     },
     "metadata": {},
     "output_type": "display_data"
    }
   ],
   "source": [
    "print(\"\\n=== Lectures Description ===\")\n",
    "display(lectures.describe(include='all'))"
   ]
  },
  {
   "cell_type": "markdown",
   "id": "8a2db888",
   "metadata": {},
   "source": [
    "The above output shows the following:\n",
    "- **lecture_id:** Every lecture has a unique `lecture_id`.\n",
    "- **part:** The `part` column shows that the lectures are spread across various parts, with the values ranging from `-1` to `7`.\n",
    "- **tags:** The `tags` column is numeric, with values ranging from `-1` to `298`. The `-1` values could represent missing or invalid tags.\n",
    "- **video_length:** The video length ranges from `-1` to `1,042,000` ms, with a mean of approximately 147,297 ms (around 2.45 minutes). The presence of `-1` values indicates missing video lengths.\n",
    "- **deployed_at:** The `deployed_at` column contains Unix timestamps. The values range from `-1` to `1.570427e+12`, with the median deployment time falling around `1.570425e+12` ms.\n",
    "\n",
    "#### Missing Values Check"
   ]
  },
  {
   "cell_type": "code",
   "execution_count": 30,
   "id": "d7a70547",
   "metadata": {},
   "outputs": [
    {
     "name": "stdout",
     "output_type": "stream",
     "text": [
      "\n",
      "=== Lectures Missing Values ===\n",
      "lecture_id      0\n",
      "part            0\n",
      "tags            0\n",
      "video_length    0\n",
      "deployed_at     0\n",
      "dtype: int64\n"
     ]
    }
   ],
   "source": [
    "print(\"\\n=== Lectures Missing Values ===\")\n",
    "print(lectures.isna().sum())"
   ]
  },
  {
   "cell_type": "markdown",
   "id": "fac57808",
   "metadata": {},
   "source": [
    "#### Checking for Duplicates"
   ]
  },
  {
   "cell_type": "code",
   "execution_count": null,
   "id": "2f2b186c",
   "metadata": {},
   "outputs": [
    {
     "name": "stdout",
     "output_type": "stream",
     "text": [
      "\n",
      "=== Lectures Duplicates ===\n",
      "Number of duplicate rows: 0\n"
     ]
    }
   ],
   "source": [
    "print(\"\\n=== Lectures Duplicates ===\")\n",
    "duplicate_rows = lectures.duplicated().sum() # Count how many rows are duplicates\n",
    "print(f\"Number of duplicate rows: {duplicate_rows}\")"
   ]
  },
  {
   "cell_type": "markdown",
   "id": "b2bbd0fe",
   "metadata": {},
   "source": [
    "As seen above, there are no missing and duplicated values.\n",
    "\n",
    "#### Cleaning the Data\n",
    "\n",
    "As seen before, the invalid `-1` which indicates null or invalid values are replaced with `NaN` by the code below, making the dataset cleaner for further analysis. And the `deployed_at` column is now in a proper `datetime` format, which is easier to work with for time-based analysis."
   ]
  },
  {
   "cell_type": "code",
   "execution_count": 32,
   "id": "38a9a0a4",
   "metadata": {},
   "outputs": [],
   "source": [
    "# Replace -1 with NaN in specific columns for meaningful missing values\n",
    "lectures[[\"part\", \"tags\", \"video_length\", \"deployed_at\"]] = lectures[[\"part\", \"tags\", \"video_length\", \"deployed_at\"]].replace(-1, np.nan)\n",
    "\n",
    "# Convert deployed_at from milliseconds to datetime format, ensuring that invalid values become NaT (Not a Time)\n",
    "lectures[\"deployed_at\"] = pd.to_datetime(lectures[\"deployed_at\"], unit=\"ms\", errors=\"coerce\")"
   ]
  },
  {
   "cell_type": "markdown",
   "id": "bf326a5f",
   "metadata": {},
   "source": [
    "#### Checking the data after cleaning"
   ]
  },
  {
   "cell_type": "code",
   "execution_count": 33,
   "id": "04750337",
   "metadata": {},
   "outputs": [
    {
     "data": {
      "text/html": [
       "<div>\n",
       "<style scoped>\n",
       "    .dataframe tbody tr th:only-of-type {\n",
       "        vertical-align: middle;\n",
       "    }\n",
       "\n",
       "    .dataframe tbody tr th {\n",
       "        vertical-align: top;\n",
       "    }\n",
       "\n",
       "    .dataframe thead th {\n",
       "        text-align: right;\n",
       "    }\n",
       "</style>\n",
       "<table border=\"1\" class=\"dataframe\">\n",
       "  <thead>\n",
       "    <tr style=\"text-align: right;\">\n",
       "      <th></th>\n",
       "      <th>lecture_id</th>\n",
       "      <th>part</th>\n",
       "      <th>tags</th>\n",
       "      <th>video_length</th>\n",
       "      <th>deployed_at</th>\n",
       "    </tr>\n",
       "  </thead>\n",
       "  <tbody>\n",
       "    <tr>\n",
       "      <th>0</th>\n",
       "      <td>l520</td>\n",
       "      <td>5.0</td>\n",
       "      <td>142.0</td>\n",
       "      <td>NaN</td>\n",
       "      <td>NaT</td>\n",
       "    </tr>\n",
       "    <tr>\n",
       "      <th>1</th>\n",
       "      <td>l592</td>\n",
       "      <td>6.0</td>\n",
       "      <td>142.0</td>\n",
       "      <td>NaN</td>\n",
       "      <td>NaT</td>\n",
       "    </tr>\n",
       "    <tr>\n",
       "      <th>2</th>\n",
       "      <td>l1259</td>\n",
       "      <td>1.0</td>\n",
       "      <td>222.0</td>\n",
       "      <td>359000.0</td>\n",
       "      <td>2019-10-07 05:05:29.123</td>\n",
       "    </tr>\n",
       "    <tr>\n",
       "      <th>3</th>\n",
       "      <td>l1260</td>\n",
       "      <td>1.0</td>\n",
       "      <td>220.0</td>\n",
       "      <td>487000.0</td>\n",
       "      <td>2019-10-07 05:05:38.105</td>\n",
       "    </tr>\n",
       "    <tr>\n",
       "      <th>4</th>\n",
       "      <td>l1261</td>\n",
       "      <td>1.0</td>\n",
       "      <td>221.0</td>\n",
       "      <td>441000.0</td>\n",
       "      <td>2019-10-07 05:05:43.162</td>\n",
       "    </tr>\n",
       "  </tbody>\n",
       "</table>\n",
       "</div>"
      ],
      "text/plain": [
       "  lecture_id  part   tags  video_length             deployed_at\n",
       "0       l520   5.0  142.0           NaN                     NaT\n",
       "1       l592   6.0  142.0           NaN                     NaT\n",
       "2      l1259   1.0  222.0      359000.0 2019-10-07 05:05:29.123\n",
       "3      l1260   1.0  220.0      487000.0 2019-10-07 05:05:38.105\n",
       "4      l1261   1.0  221.0      441000.0 2019-10-07 05:05:43.162"
      ]
     },
     "metadata": {},
     "output_type": "display_data"
    }
   ],
   "source": [
    "display(lectures.head())"
   ]
  },
  {
   "cell_type": "markdown",
   "id": "bd3255a5",
   "metadata": {},
   "source": [
    "Now all the invalid `-1` are replaced with `NaN` or `NaT` and the `deployed_at` column is now in a proper `datetime` format\n",
    "\n",
    "## 2.3 Merging sampled_logs.csv and questions.csv \n",
    "\n",
    "This code below merges the `sampled_logs.csv` and `questions.csv`. The `index=False` argument ensures that the DataFrame's index is not written to the CSV files."
   ]
  },
  {
   "cell_type": "code",
   "execution_count": 34,
   "id": "b0c0ddbf",
   "metadata": {},
   "outputs": [],
   "source": [
    "# Merge sampled logs with questions\n",
    "merged = pd.merge(sampled_logs, questions, on='question_id', how='inner') # Merge the cleaned sampled logs with the questions DataFrame on question_id"
   ]
  },
  {
   "cell_type": "markdown",
   "id": "2781a41f",
   "metadata": {},
   "source": [
    "And this code saves the cleaned versions of the `sampled_logs`, `questions` and `merged` DataFrames to CSV files in the specified output directory (`../data/cleaned/`) I made earlier."
   ]
  },
  {
   "cell_type": "code",
   "execution_count": 35,
   "id": "b4d18c3f",
   "metadata": {},
   "outputs": [],
   "source": [
    "# Save cleaned datasets\n",
    "sampled_logs.to_csv(\"../data/cleaned/cleaned_sampled_logs.csv\", index=False)\n",
    "questions.to_csv(\"../data/cleaned/cleaned_questions.csv\", index=False)\n",
    "merged.to_csv(\"../data/cleaned/merged_cleaned_data.csv\", index=False)"
   ]
  },
  {
   "cell_type": "markdown",
   "id": "90c34211",
   "metadata": {},
   "source": [
    "Since lectures are not directly linked to user interactions, I didn't merged it with `sampled_logs`. Instead, I kept `lectures.csv` separately loaded. The reason for this is twofold: first, there is **no direct key to join** lectures with current logs, as `KT1 logs` only contain `question_id` without a corresponding `lecture_id`, meaning there is no user–lecture interaction at this stage. Second, lectures serve as **supplementary content** rather than integral elements of user engagement—unlike questions, lectures are consumed rather than interacted with, so merging them now would not enhance the user-question matrix. Keeping them separate allows for cleaner analysis and preserves their intended role in the dataset."
   ]
  },
  {
   "cell_type": "code",
   "execution_count": 36,
   "id": "375e609f",
   "metadata": {},
   "outputs": [
    {
     "data": {
      "text/html": [
       "<div>\n",
       "<style scoped>\n",
       "    .dataframe tbody tr th:only-of-type {\n",
       "        vertical-align: middle;\n",
       "    }\n",
       "\n",
       "    .dataframe tbody tr th {\n",
       "        vertical-align: top;\n",
       "    }\n",
       "\n",
       "    .dataframe thead th {\n",
       "        text-align: right;\n",
       "    }\n",
       "</style>\n",
       "<table border=\"1\" class=\"dataframe\">\n",
       "  <thead>\n",
       "    <tr style=\"text-align: right;\">\n",
       "      <th></th>\n",
       "      <th>timestamp</th>\n",
       "      <th>solving_id</th>\n",
       "      <th>question_id</th>\n",
       "      <th>user_answer</th>\n",
       "      <th>elapsed_time</th>\n",
       "      <th>user_id</th>\n",
       "      <th>bundle_id</th>\n",
       "      <th>explanation_id</th>\n",
       "      <th>correct_answer</th>\n",
       "      <th>part</th>\n",
       "      <th>tags</th>\n",
       "      <th>deployed_at</th>\n",
       "    </tr>\n",
       "  </thead>\n",
       "  <tbody>\n",
       "    <tr>\n",
       "      <th>0</th>\n",
       "      <td>2018-03-25 09:57:07.112</td>\n",
       "      <td>1</td>\n",
       "      <td>q8098</td>\n",
       "      <td>b</td>\n",
       "      <td>12000</td>\n",
       "      <td>u145242</td>\n",
       "      <td>b5569</td>\n",
       "      <td>e5569</td>\n",
       "      <td>b</td>\n",
       "      <td>1</td>\n",
       "      <td>5;2;182</td>\n",
       "      <td>2017-12-29 15:06:23.093</td>\n",
       "    </tr>\n",
       "    <tr>\n",
       "      <th>1</th>\n",
       "      <td>2018-03-25 09:57:35.061</td>\n",
       "      <td>2</td>\n",
       "      <td>q8074</td>\n",
       "      <td>d</td>\n",
       "      <td>25000</td>\n",
       "      <td>u145242</td>\n",
       "      <td>b5545</td>\n",
       "      <td>e5545</td>\n",
       "      <td>c</td>\n",
       "      <td>1</td>\n",
       "      <td>11;7;183</td>\n",
       "      <td>2018-05-18 08:57:02.552</td>\n",
       "    </tr>\n",
       "    <tr>\n",
       "      <th>2</th>\n",
       "      <td>2018-03-25 09:57:59.724</td>\n",
       "      <td>3</td>\n",
       "      <td>q176</td>\n",
       "      <td>b</td>\n",
       "      <td>22000</td>\n",
       "      <td>u145242</td>\n",
       "      <td>b176</td>\n",
       "      <td>e176</td>\n",
       "      <td>d</td>\n",
       "      <td>1</td>\n",
       "      <td>6;7;183</td>\n",
       "      <td>2017-12-29 14:53:43.800</td>\n",
       "    </tr>\n",
       "    <tr>\n",
       "      <th>3</th>\n",
       "      <td>2018-03-25 09:58:19.710</td>\n",
       "      <td>4</td>\n",
       "      <td>q1279</td>\n",
       "      <td>c</td>\n",
       "      <td>17000</td>\n",
       "      <td>u145242</td>\n",
       "      <td>b1279</td>\n",
       "      <td>e1279</td>\n",
       "      <td>c</td>\n",
       "      <td>2</td>\n",
       "      <td>24;26;182;184</td>\n",
       "      <td>2019-10-17 02:58:38.714</td>\n",
       "    </tr>\n",
       "    <tr>\n",
       "      <th>4</th>\n",
       "      <td>2018-03-25 09:59:03.593</td>\n",
       "      <td>5</td>\n",
       "      <td>q2067</td>\n",
       "      <td>a</td>\n",
       "      <td>13333</td>\n",
       "      <td>u145242</td>\n",
       "      <td>b1623</td>\n",
       "      <td>e1623</td>\n",
       "      <td>b</td>\n",
       "      <td>3</td>\n",
       "      <td>52;183;184</td>\n",
       "      <td>2019-03-12 02:28:10.338</td>\n",
       "    </tr>\n",
       "  </tbody>\n",
       "</table>\n",
       "</div>"
      ],
      "text/plain": [
       "                timestamp  solving_id question_id user_answer  elapsed_time  \\\n",
       "0 2018-03-25 09:57:07.112           1       q8098           b         12000   \n",
       "1 2018-03-25 09:57:35.061           2       q8074           d         25000   \n",
       "2 2018-03-25 09:57:59.724           3        q176           b         22000   \n",
       "3 2018-03-25 09:58:19.710           4       q1279           c         17000   \n",
       "4 2018-03-25 09:59:03.593           5       q2067           a         13333   \n",
       "\n",
       "   user_id bundle_id explanation_id correct_answer  part           tags  \\\n",
       "0  u145242     b5569          e5569              b     1        5;2;182   \n",
       "1  u145242     b5545          e5545              c     1       11;7;183   \n",
       "2  u145242      b176           e176              d     1        6;7;183   \n",
       "3  u145242     b1279          e1279              c     2  24;26;182;184   \n",
       "4  u145242     b1623          e1623              b     3     52;183;184   \n",
       "\n",
       "              deployed_at  \n",
       "0 2017-12-29 15:06:23.093  \n",
       "1 2018-05-18 08:57:02.552  \n",
       "2 2017-12-29 14:53:43.800  \n",
       "3 2019-10-17 02:58:38.714  \n",
       "4 2019-03-12 02:28:10.338  "
      ]
     },
     "metadata": {},
     "output_type": "display_data"
    }
   ],
   "source": [
    "display(merged.head())"
   ]
  },
  {
   "cell_type": "markdown",
   "id": "dc7699cf",
   "metadata": {},
   "source": [
    "The above is how the merged dataset looks like"
   ]
  },
  {
   "cell_type": "markdown",
   "id": "b261841c",
   "metadata": {},
   "source": []
  }
 ],
 "metadata": {
  "kernelspec": {
   "display_name": "Python (.venv - EdNet)",
   "language": "python",
   "name": "ednet-env"
  },
  "language_info": {
   "codemirror_mode": {
    "name": "ipython",
    "version": 3
   },
   "file_extension": ".py",
   "mimetype": "text/x-python",
   "name": "python",
   "nbconvert_exporter": "python",
   "pygments_lexer": "ipython3",
   "version": "3.10.0"
  }
 },
 "nbformat": 4,
 "nbformat_minor": 5
}
